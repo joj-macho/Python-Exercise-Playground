{
 "cells": [
  {
   "cell_type": "markdown",
   "metadata": {},
   "source": [
    "# Getting Started with Python Programming\n",
    "\n",
    "Welcome to the 'Getting Started with Python Programming' tutorial notebook! In this section, we'll cover fundamental concepts for beginners in Python. These exercises will help you understand essential tasks like checking your Python version, creating variables, using comments, and more."
   ]
  },
  {
   "cell_type": "markdown",
   "metadata": {},
   "source": [
    "### Checking Python Version\n",
    "\n",
    "**Problem**: Write a program to check the version of Python installed on your system."
   ]
  },
  {
   "cell_type": "code",
   "execution_count": 2,
   "metadata": {},
   "outputs": [
    {
     "name": "stdout",
     "output_type": "stream",
     "text": [
      "Python Version: 3.11.5 (main, Nov 10 2011, 15:00:00) [GCC 13.2.0]\n",
      "Python Version Info: sys.version_info(major=3, minor=11, micro=5, releaselevel='final', serial=0)\n"
     ]
    }
   ],
   "source": [
    "# Solution\n",
    "\n",
    "import sys\n",
    "\n",
    "print('Python Version:', sys.version)\n",
    "print('Python Version Info:', sys.version_info)"
   ]
  },
  {
   "cell_type": "markdown",
   "metadata": {},
   "source": [
    "- Checking the Python version is crucial when working on projects to ensure compatibility. The `sys` module provides information about the Python interpreter and can be used to access the version information.\n",
    "- The above solution will print information about the Python version installed on your system, including the version number and version information.\n",
    "\n",
    "**Exercises**:\n",
    "\n",
    "Link article on sys and platform.\n",
    "\n",
    "1. Modify the code to display the major and minor version numbers separately.\n",
    "2. Investigate the `platform` module to find additional system-related information."
   ]
  },
  {
   "cell_type": "markdown",
   "metadata": {},
   "source": [
    "### Checking if Python is Installed\n",
    "\n",
    "**Problem**: Create a script that checks whether Python is installed on the user's system."
   ]
  },
  {
   "cell_type": "code",
   "execution_count": 15,
   "metadata": {},
   "outputs": [
    {
     "name": "stdout",
     "output_type": "stream",
     "text": [
      "Python is installed.\n"
     ]
    }
   ],
   "source": [
    "# Solution\n",
    "\n",
    "import sys\n",
    "\n",
    "if hasattr(sys, 'base_prefix') or hasattr(sys, 'real_prefix') or sys.base_prefix != sys.real_prefix:\n",
    "    print('Python is installed.')\n",
    "else:\n",
    "    print('Python is not installed.')"
   ]
  },
  {
   "cell_type": "markdown",
   "metadata": {},
   "source": [
    "Ensuring Python is installed is the first step before running any Python script. The simple script above can be used to verify its presence.\n",
    "\n",
    "**Exercises**:\n",
    "\n",
    "Include link to script: check_python_info.py\n",
    "\n",
    "1. Enhance the script to provide information about the installed Python version.\n",
    "2. Investigate other methods for checking Python installation status."
   ]
  },
  {
   "cell_type": "markdown",
   "metadata": {},
   "source": [
    "### Getting Help with Python\n",
    "\n",
    "**Problem**: Write code that displays help or information about a specific Python function or module."
   ]
  },
  {
   "cell_type": "code",
   "execution_count": 16,
   "metadata": {},
   "outputs": [
    {
     "name": "stdout",
     "output_type": "stream",
     "text": [
      "Help on built-in function print in module builtins:\n",
      "\n",
      "print(*args, sep=' ', end='\\n', file=None, flush=False)\n",
      "    Prints the values to a stream, or to sys.stdout by default.\n",
      "    \n",
      "    sep\n",
      "      string inserted between values, default a space.\n",
      "    end\n",
      "      string appended after the last value, default a newline.\n",
      "    file\n",
      "      a file-like object (stream); defaults to the current sys.stdout.\n",
      "    flush\n",
      "      whether to forcibly flush the stream.\n",
      "\n"
     ]
    }
   ],
   "source": [
    "# Solution\n",
    "\n",
    "# Display help for the print function\n",
    "help(print)"
   ]
  },
  {
   "cell_type": "markdown",
   "metadata": {},
   "source": [
    "Python provides the `help()` function and docstrings to get information about functions and modules. \n",
    "\n",
    "Include link to script: display_help.py\n",
    "\n",
    "**Exercises**:\n",
    "\n",
    "1. Explore the `help()` function for other built-in functions.\n",
    "2. Write a function with a docstring and use `help()` to view its documentation."
   ]
  },
  {
   "cell_type": "markdown",
   "metadata": {},
   "source": [
    "### Hello World Example\n",
    "\n",
    "**Problem**: Create a Python script that prints the classic 'Hello, World!' message."
   ]
  },
  {
   "cell_type": "code",
   "execution_count": 17,
   "metadata": {},
   "outputs": [
    {
     "name": "stdout",
     "output_type": "stream",
     "text": [
      "Hello, World!\n"
     ]
    }
   ],
   "source": [
    "# Solution\n",
    "\n",
    "print('Hello, World!')"
   ]
  },
  {
   "cell_type": "markdown",
   "metadata": {},
   "source": [
    "The 'Hello, World!' program is a tradition for beginners. It ensures your environment is set up correctly and introduces you to basic syntax.\n",
    "\n",
    "Understanding how to run Python scripts from the terminal is essential for executing larger programs and automation scripts.\n",
    "\n",
    "**Exercises**:\n",
    "\n",
    "1. Add a second line to print your name.\n",
    "2. Experiment with formatting the output."
   ]
  },
  {
   "cell_type": "markdown",
   "metadata": {},
   "source": [
    "### Creating Variables and Assigning Values\n",
    "\n",
    "**Problem**: Declare a variable and assign it a value. Print the value of the variable."
   ]
  },
  {
   "cell_type": "code",
   "execution_count": 18,
   "metadata": {},
   "outputs": [
    {
     "name": "stdout",
     "output_type": "stream",
     "text": [
      "Hello, World!\n"
     ]
    }
   ],
   "source": [
    "# Solution\n",
    "\n",
    "# Declare a variable and assign a value\n",
    "my_variable = 'Hello, World!'\n",
    "\n",
    "print(my_variable)"
   ]
  },
  {
   "cell_type": "markdown",
   "metadata": {},
   "source": [
    "Variables store data in Python. To create a variable, use an assignment statement that assigns a value to a variable name. For instance, creating a variable named 'x' and assigning it the value 42 allows you to refer to the stored value using the name 'x.'\n",
    "\n",
    "**Exercises**:\n",
    "\n",
    "1. Create multiple variables and print their values.\n",
    "2. Experiment with different data types for variables."
   ]
  },
  {
   "cell_type": "markdown",
   "metadata": {},
   "source": [
    "### How to Use Comments\n",
    "\n",
    "**Problem**: Write code demonstrating single-line, inline, and multiline comments in Python."
   ]
  },
  {
   "cell_type": "code",
   "execution_count": 19,
   "metadata": {},
   "outputs": [
    {
     "data": {
      "text/plain": [
       "'\\nMultiline\\ncomment\\n'"
      ]
     },
     "execution_count": 19,
     "metadata": {},
     "output_type": "execute_result"
    }
   ],
   "source": [
    "# Solution\n",
    "\n",
    "# Single-line comment\n",
    "\n",
    "variable = 42  # Inline comment\n",
    "\n",
    "'''\n",
    "Multiline\n",
    "comment\n",
    "'''"
   ]
  },
  {
   "cell_type": "markdown",
   "metadata": {},
   "source": [
    "Comments are essential for code readability. Understanding how to use different types of comments helps you communicate effectively.\n",
    "\n",
    "**Exercises**:\n",
    "\n",
    "1. Add comments to the code explaining each step.\n",
    "2. Explore the use of docstrings for multiline comments."
   ]
  },
  {
   "cell_type": "markdown",
   "metadata": {},
   "source": [
    "### Constants in Python\n",
    "\n",
    "**Problem**: Define a constant in Python and use it in a program."
   ]
  },
  {
   "cell_type": "code",
   "execution_count": 20,
   "metadata": {},
   "outputs": [
    {
     "name": "stdout",
     "output_type": "stream",
     "text": [
      "The area of the circle is: 78.53975\n"
     ]
    }
   ],
   "source": [
    "# Solution\n",
    "\n",
    "# Define a constant\n",
    "PI = 3.14159\n",
    "\n",
    "radius = 5\n",
    "area = PI * radius**2\n",
    "print(f'The area of the circle is: {area}')"
   ]
  },
  {
   "cell_type": "markdown",
   "metadata": {},
   "source": [
    "Constants are values that do not change during program execution.\n",
    "\n",
    "**Exercises**:\n",
    "\n",
    "1. Create multiple constants and use them in calculations.\n",
    "2. Investigate whether Python has true constants."
   ]
  },
  {
   "cell_type": "markdown",
   "metadata": {},
   "source": [
    "### Expressions and Statement\n",
    "\n",
    "**Problem**: Write code with both expressions and statements, explaining the difference between them."
   ]
  },
  {
   "cell_type": "code",
   "execution_count": 21,
   "metadata": {},
   "outputs": [
    {
     "name": "stdout",
     "output_type": "stream",
     "text": [
      "Hello, Python!\n"
     ]
    }
   ],
   "source": [
    "# Solution\n",
    "\n",
    "# Expression example\n",
    "result = 10 + 5\n",
    "\n",
    "# Statement example\n",
    "print('Hello, Python!')"
   ]
  },
  {
   "cell_type": "markdown",
   "metadata": {},
   "source": [
    "Expressions produce values, while statements perform actions. Understanding this fundamental difference is key to writing effective Python code.\n",
    "\n",
    "**Exercises**:\n",
    "\n",
    "1. Write expressions to calculate the area of a rectangle and the circumference of a circle.\n",
    "2. Create statements to perform user input and display output."
   ]
  },
  {
   "cell_type": "markdown",
   "metadata": {},
   "source": [
    "### Block Indentation\n",
    "\n",
    "**Problem**: Develop a program that utilizes proper block indentation according to Python syntax."
   ]
  },
  {
   "cell_type": "code",
   "execution_count": 22,
   "metadata": {},
   "outputs": [
    {
     "name": "stdout",
     "output_type": "stream",
     "text": [
      "This is indented correctly.\n"
     ]
    }
   ],
   "source": [
    "# Solution\n",
    "\n",
    "if True:\n",
    "    print('This is indented correctly.')\n",
    "else:\n",
    "    print('This is not indented correctly.')"
   ]
  },
  {
   "cell_type": "markdown",
   "metadata": {},
   "source": [
    "Python uses indentation to define blocks of code.\n",
    "\n",
    "**Exercises**:\n",
    "\n",
    "1. Experiment with incorrect indentation and observe the errors.\n",
    "2. Create nested if statements to practice indentation."
   ]
  },
  {
   "cell_type": "markdown",
   "metadata": {},
   "source": [
    "### Built-in Types\n",
    "\n",
    "**Problem**: Explore and demonstrate the use of simple built-in data types like int, float, and str."
   ]
  },
  {
   "cell_type": "code",
   "execution_count": 23,
   "metadata": {},
   "outputs": [],
   "source": [
    "# Solution\n",
    "\n",
    "integer_var = 42\n",
    "float_var = 3.14\n",
    "complex_var = 2 + 3j \n",
    "list_var = [1, 2, 3, 'four']\n",
    "tuple_var = ('one', 2, 3, 4)\n",
    "dict_var = {'one': 1, 'two': 2, 'three': 3, 'four': 4}\n",
    "string_var = \"Hello, Python!\""
   ]
  },
  {
   "cell_type": "markdown",
   "metadata": {},
   "source": [
    "Understanding built-in data types is fundamental to Python programming. It allows you to work with different kinds of data efficiently.\n",
    "\n",
    "**Exercises**:\n",
    "\n",
    "1. Create variables of each built-in type and perform basic operations.\n",
    "2. Explore additional built-in types like bool and complex."
   ]
  },
  {
   "cell_type": "markdown",
   "metadata": {},
   "source": [
    "### User Input\n",
    "\n",
    "**Problem**: Ask the user to enter their name and display a personalized greeting message."
   ]
  },
  {
   "cell_type": "code",
   "execution_count": 24,
   "metadata": {},
   "outputs": [
    {
     "name": "stdout",
     "output_type": "stream",
     "text": [
      "Hello, Joj!\n"
     ]
    }
   ],
   "source": [
    "# Solution\n",
    "\n",
    "user_name = input('Enter your name: ')\n",
    "print(f'Hello, {user_name}!')"
   ]
  },
  {
   "cell_type": "markdown",
   "metadata": {},
   "source": [
    "User input is essential for interactive programs.\n",
    "\n",
    "**Exercises**:\n",
    "\n",
    "1. Modify the program to ask for the user's age and display a personalized message.\n",
    "2. Validate user input to ensure it's not empty."
   ]
  },
  {
   "cell_type": "markdown",
   "metadata": {},
   "source": [
    "### Built-in Modules and Functions\n",
    "\n",
    "**Problem**: Utilize a built-in module or function in Python to perform a specific task."
   ]
  },
  {
   "cell_type": "code",
   "execution_count": 25,
   "metadata": {},
   "outputs": [
    {
     "name": "stdout",
     "output_type": "stream",
     "text": [
      "Random number: 8\n"
     ]
    }
   ],
   "source": [
    "# Solution\n",
    "\n",
    "# Using the random module to generate a random number\n",
    "import random\n",
    "\n",
    "random_number = random.randint(1, 10)\n",
    "print(f'Random number: {random_number}')"
   ]
  },
  {
   "cell_type": "markdown",
   "metadata": {},
   "source": [
    "Python has a rich set of built-in modules and functions that extend its functionality. Learning to use them enhances your programming capabilities.\n",
    "\n",
    "**Exercises**:\n",
    "\n",
    "1. Explore other built-in modules like `math` and `datetime`.\n",
    "2. Use a built-in function to perform a task related to strings or lists."
   ]
  },
  {
   "cell_type": "markdown",
   "metadata": {},
   "source": [
    "Remember to practice, experiment, and explore additional Python features to enhance your programming skills."
   ]
  }
 ],
 "metadata": {
  "kernelspec": {
   "display_name": ".venv",
   "language": "python",
   "name": "python3"
  },
  "language_info": {
   "codemirror_mode": {
    "name": "ipython",
    "version": 3
   },
   "file_extension": ".py",
   "mimetype": "text/x-python",
   "name": "python",
   "nbconvert_exporter": "python",
   "pygments_lexer": "ipython3",
   "version": "3.11.5"
  }
 },
 "nbformat": 4,
 "nbformat_minor": 2
}
