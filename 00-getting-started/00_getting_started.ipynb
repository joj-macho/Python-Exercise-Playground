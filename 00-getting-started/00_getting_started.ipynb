{
 "cells": [
  {
   "cell_type": "markdown",
   "metadata": {},
   "source": [
    "# Getting Started with Python Programming\n",
    "\n",
    "This section will cover fundamental concepts for beginners in Python and introductory scripts. These scripts will help you understand essential tasks like checking your Python version, creating variables, using comments, and more.\n",
    "\n",
    "For a more in depth overview on getting started with Python Programming, I recommend checking out my comprehensive tutorial on [Getting Started with Python Programming](https://joj-macho.github.io/workspace/python/getting-started). This detailed resource covers fundamental programming concepts, the significance of learning Python, its diverse applications, various Python domains, and more. Additionally, you may find a tutorial on [Setting Up Your Python Programming Environment](https://joj-macho.github.io/workspace/python/setting-up) valuable. It walks you through the process of installing Python, understanding the Python interpreter, running your first program, selecting an editor or IDE for Python, and exploring the Python learning ecosystem."
   ]
  },
  {
   "cell_type": "markdown",
   "metadata": {},
   "source": [
    "### Checking Python Version\n",
    "\n",
    "Now, let's dive into our first exercise: checking your Python version. This is a crucial step to ensure you have the correct environment for running Python programs. Follow the steps below:"
   ]
  },
  {
   "cell_type": "code",
   "execution_count": 1,
   "metadata": {},
   "outputs": [
    {
     "name": "stdout",
     "output_type": "stream",
     "text": [
      "Python Version: 3.11.9 (main, Nov 10 2011, 15:00:00) [GCC 13.2.0]\n",
      "Python Version Info: sys.version_info(major=3, minor=11, micro=9, releaselevel='final', serial=0)\n"
     ]
    }
   ],
   "source": [
    "import sys\n",
    "\n",
    "print('Python Version:', sys.version)\n",
    "print('Python Version Info:', sys.version_info)"
   ]
  },
  {
   "cell_type": "markdown",
   "metadata": {},
   "source": [
    "Run the code cell, and you'll see the Python version installed on your system, including the version number and version information. Checking the Python version is crucial when working on projects to ensure compatibility. The `sys` module provides information about the Python interpreter and can be used to access the version information."
   ]
  },
  {
   "cell_type": "markdown",
   "metadata": {},
   "source": [
    "### Checking if Python is Installed\n",
    "\n",
    "To confirm whether Python is installed on your system, open your command prompt or terminal and type:"
   ]
  },
  {
   "cell_type": "code",
   "execution_count": 3,
   "metadata": {
    "vscode": {
     "languageId": "shellscript"
    }
   },
   "outputs": [
    {
     "ename": "NameError",
     "evalue": "name 'python3' is not defined",
     "output_type": "error",
     "traceback": [
      "\u001b[0;31m---------------------------------------------------------------------------\u001b[0m",
      "\u001b[0;31mNameError\u001b[0m                                 Traceback (most recent call last)",
      "\u001b[1;32m/home/joj-macho/Documents/myWork/Projects/GitHub-Repos/Python-Exercise-Playground/00-getting-started/00_getting_started.ipynb Cell 6\u001b[0m line \u001b[0;36m1\n\u001b[0;32m----> <a href='vscode-notebook-cell:/home/joj-macho/Documents/myWork/Projects/GitHub-Repos/Python-Exercise-Playground/00-getting-started/00_getting_started.ipynb#W5sZmlsZQ%3D%3D?line=0'>1</a>\u001b[0m python3 \u001b[39m-\u001b[39m\u001b[39m-\u001b[39mversion\n",
      "\u001b[0;31mNameError\u001b[0m: name 'python3' is not defined"
     ]
    }
   ],
   "source": [
    "python3 --version"
   ]
  },
  {
   "cell_type": "markdown",
   "metadata": {},
   "source": [
    "If Python is installed, you'll see the version number. If not, you'll need to install Python. Alternatively, you can check using the hard way. You can use the following code snippet in the Python editor to check if Python is installed:"
   ]
  },
  {
   "cell_type": "code",
   "execution_count": 4,
   "metadata": {},
   "outputs": [
    {
     "name": "stdout",
     "output_type": "stream",
     "text": [
      "Python is installed.\n"
     ]
    }
   ],
   "source": [
    "import sys\n",
    "\n",
    "if hasattr(sys, 'base_prefix') or hasattr(sys, 'real_prefix') or sys.base_prefix != sys.real_prefix:\n",
    "    print('Python is installed.')\n",
    "else:\n",
    "    print('Python is not installed.')"
   ]
  },
  {
   "cell_type": "markdown",
   "metadata": {},
   "source": [
    "This code checks if the `sys` module has attributes like 'base_prefix' or 'real_prefix' or if the base prefix is different from the real prefix. If any of these conditions is true, it indicates that Python is installed.\n",
    "\n",
    "Running this code in your Python editor will provide a confirmation of whether Python is installed on your system. If Python is installed, the message 'Python is installed.' will be printed; otherwise, 'Python is not installed.' will be displayed. This serves as a simple yet effective way to verify the presence of Python on your machine."
   ]
  },
  {
   "cell_type": "markdown",
   "metadata": {},
   "source": [
    "### Getting Help with Python\n",
    "\n",
    "Python provides a helpful `help()` function to get information about objects. Let's use it to get information about the dictionary data type."
   ]
  },
  {
   "cell_type": "code",
   "execution_count": 5,
   "metadata": {},
   "outputs": [
    {
     "name": "stdout",
     "output_type": "stream",
     "text": [
      "Help on class dict in module builtins:\n",
      "\n",
      "class dict(object)\n",
      " |  dict() -> new empty dictionary\n",
      " |  dict(mapping) -> new dictionary initialized from a mapping object's\n",
      " |      (key, value) pairs\n",
      " |  dict(iterable) -> new dictionary initialized as if via:\n",
      " |      d = {}\n",
      " |      for k, v in iterable:\n",
      " |          d[k] = v\n",
      " |  dict(**kwargs) -> new dictionary initialized with the name=value pairs\n",
      " |      in the keyword argument list.  For example:  dict(one=1, two=2)\n",
      " |  \n",
      " |  Built-in subclasses:\n",
      " |      StgDict\n",
      " |  \n",
      " |  Methods defined here:\n",
      " |  \n",
      " |  __contains__(self, key, /)\n",
      " |      True if the dictionary has the specified key, else False.\n",
      " |  \n",
      " |  __delitem__(self, key, /)\n",
      " |      Delete self[key].\n",
      " |  \n",
      " |  __eq__(self, value, /)\n",
      " |      Return self==value.\n",
      " |  \n",
      " |  __ge__(self, value, /)\n",
      " |      Return self>=value.\n",
      " |  \n",
      " |  __getattribute__(self, name, /)\n",
      " |      Return getattr(self, name).\n",
      " |  \n",
      " |  __getitem__(...)\n",
      " |      x.__getitem__(y) <==> x[y]\n",
      " |  \n",
      " |  __gt__(self, value, /)\n",
      " |      Return self>value.\n",
      " |  \n",
      " |  __init__(self, /, *args, **kwargs)\n",
      " |      Initialize self.  See help(type(self)) for accurate signature.\n",
      " |  \n",
      " |  __ior__(self, value, /)\n",
      " |      Return self|=value.\n",
      " |  \n",
      " |  __iter__(self, /)\n",
      " |      Implement iter(self).\n",
      " |  \n",
      " |  __le__(self, value, /)\n",
      " |      Return self<=value.\n",
      " |  \n",
      " |  __len__(self, /)\n",
      " |      Return len(self).\n",
      " |  \n",
      " |  __lt__(self, value, /)\n",
      " |      Return self<value.\n",
      " |  \n",
      " |  __ne__(self, value, /)\n",
      " |      Return self!=value.\n",
      " |  \n",
      " |  __or__(self, value, /)\n",
      " |      Return self|value.\n",
      " |  \n",
      " |  __repr__(self, /)\n",
      " |      Return repr(self).\n",
      " |  \n",
      " |  __reversed__(self, /)\n",
      " |      Return a reverse iterator over the dict keys.\n",
      " |  \n",
      " |  __ror__(self, value, /)\n",
      " |      Return value|self.\n",
      " |  \n",
      " |  __setitem__(self, key, value, /)\n",
      " |      Set self[key] to value.\n",
      " |  \n",
      " |  __sizeof__(...)\n",
      " |      D.__sizeof__() -> size of D in memory, in bytes\n",
      " |  \n",
      " |  clear(...)\n",
      " |      D.clear() -> None.  Remove all items from D.\n",
      " |  \n",
      " |  copy(...)\n",
      " |      D.copy() -> a shallow copy of D\n",
      " |  \n",
      " |  get(self, key, default=None, /)\n",
      " |      Return the value for key if key is in the dictionary, else default.\n",
      " |  \n",
      " |  items(...)\n",
      " |      D.items() -> a set-like object providing a view on D's items\n",
      " |  \n",
      " |  keys(...)\n",
      " |      D.keys() -> a set-like object providing a view on D's keys\n",
      " |  \n",
      " |  pop(...)\n",
      " |      D.pop(k[,d]) -> v, remove specified key and return the corresponding value.\n",
      " |      \n",
      " |      If the key is not found, return the default if given; otherwise,\n",
      " |      raise a KeyError.\n",
      " |  \n",
      " |  popitem(self, /)\n",
      " |      Remove and return a (key, value) pair as a 2-tuple.\n",
      " |      \n",
      " |      Pairs are returned in LIFO (last-in, first-out) order.\n",
      " |      Raises KeyError if the dict is empty.\n",
      " |  \n",
      " |  setdefault(self, key, default=None, /)\n",
      " |      Insert key with a value of default if key is not in the dictionary.\n",
      " |      \n",
      " |      Return the value for key if key is in the dictionary, else default.\n",
      " |  \n",
      " |  update(...)\n",
      " |      D.update([E, ]**F) -> None.  Update D from dict/iterable E and F.\n",
      " |      If E is present and has a .keys() method, then does:  for k in E: D[k] = E[k]\n",
      " |      If E is present and lacks a .keys() method, then does:  for k, v in E: D[k] = v\n",
      " |      In either case, this is followed by: for k in F:  D[k] = F[k]\n",
      " |  \n",
      " |  values(...)\n",
      " |      D.values() -> an object providing a view on D's values\n",
      " |  \n",
      " |  ----------------------------------------------------------------------\n",
      " |  Class methods defined here:\n",
      " |  \n",
      " |  __class_getitem__(...) from builtins.type\n",
      " |      See PEP 585\n",
      " |  \n",
      " |  fromkeys(iterable, value=None, /) from builtins.type\n",
      " |      Create a new dictionary with keys from iterable and values set to value.\n",
      " |  \n",
      " |  ----------------------------------------------------------------------\n",
      " |  Static methods defined here:\n",
      " |  \n",
      " |  __new__(*args, **kwargs) from builtins.type\n",
      " |      Create and return a new object.  See help(type) for accurate signature.\n",
      " |  \n",
      " |  ----------------------------------------------------------------------\n",
      " |  Data and other attributes defined here:\n",
      " |  \n",
      " |  __hash__ = None\n",
      "\n"
     ]
    }
   ],
   "source": [
    "help(dict)"
   ]
  },
  {
   "cell_type": "markdown",
   "metadata": {},
   "source": [
    "Run the code cell, and you'll get detailed information about the `dict` data type. The `help()` function is a valuable resource for understanding Python objects."
   ]
  },
  {
   "cell_type": "markdown",
   "metadata": {},
   "source": [
    "### Hello World Example\n",
    "\n",
    "Let's write the classic: the 'Hello, World!' program."
   ]
  },
  {
   "cell_type": "code",
   "execution_count": 6,
   "metadata": {},
   "outputs": [
    {
     "name": "stdout",
     "output_type": "stream",
     "text": [
      "Hello, World!\n"
     ]
    }
   ],
   "source": [
    "print('Hello, World!')"
   ]
  },
  {
   "cell_type": "markdown",
   "metadata": {},
   "source": [
    "Run the code cell, and you'll see the familiar 'Hello, World!' message printed. This simple program is a tradition in programming to get you started and ensures your environment is set up correctly and introduces you to basic syntax."
   ]
  },
  {
   "cell_type": "markdown",
   "metadata": {},
   "source": [
    "### Creating Variables and Assigning Values\n",
    "\n",
    "Variables are used to store and manage data. Let's create a variable and assign it a value."
   ]
  },
  {
   "cell_type": "code",
   "execution_count": 7,
   "metadata": {},
   "outputs": [
    {
     "name": "stdout",
     "output_type": "stream",
     "text": [
      "Hello, World!\n"
     ]
    }
   ],
   "source": [
    "my_variable = 'Hello, World!'\n",
    "print(my_variable)"
   ]
  },
  {
   "cell_type": "markdown",
   "metadata": {},
   "source": [
    "To create a variable, use an assignment statement that assigns a value to a variable name. When you run the code cell above, you'll see the message stored in the `my_variable` variable printed. This demonstrates the basic concept of variables in Python."
   ]
  },
  {
   "cell_type": "markdown",
   "metadata": {},
   "source": [
    "### How to Use Comments\n",
    "\n",
    "Comments in Python start with the `#` symbol. They are used to add explanations to your code without affecting its functionality."
   ]
  },
  {
   "cell_type": "code",
   "execution_count": 11,
   "metadata": {},
   "outputs": [
    {
     "name": "stdout",
     "output_type": "stream",
     "text": [
      "Hello, World!\n"
     ]
    }
   ],
   "source": [
    "# Single-line comment\n",
    "print('Hello, World!')  # Inline comment\n",
    "\n",
    "# Multiline\n",
    "# comment"
   ]
  },
  {
   "cell_type": "markdown",
   "metadata": {},
   "source": [
    "When you run the above code cell, you'll see the message printed. The comments are ignored by the Python interpreter. Comments are essential for code readability. Understanding how to use different types of comments helps you communicate effectively."
   ]
  },
  {
   "cell_type": "markdown",
   "metadata": {},
   "source": [
    "### Constants in Python\n",
    "\n",
    "Constants are variables whose values should not be changed. Though Python doesn't have constants, we use naming conventions to indicate a variable is constant."
   ]
  },
  {
   "cell_type": "code",
   "execution_count": 12,
   "metadata": {},
   "outputs": [],
   "source": [
    "PI = 3.14159\n",
    "SPEED_OF_LIGHT = 299_792_458  # m/s\n",
    "PLANCK_CONSTANT = 6.62607015 * 10**(-34)  # J·s\n",
    "GRAVITATIONAL_CONSTANT = 9.81 # m/s^2\n",
    "BOLTZMANN_CONSTANT = 1.380649 * 10**(-23) # J/K"
   ]
  },
  {
   "cell_type": "markdown",
   "metadata": {},
   "source": [
    "The uppercase name indicates that the variables above are intended to be a constants."
   ]
  },
  {
   "cell_type": "markdown",
   "metadata": {},
   "source": [
    "### Expressions and Statement\n",
    "\n",
    "Expressions are combinations of values and operators, while statements are lines of code that perform actions. Let's explore both."
   ]
  },
  {
   "cell_type": "code",
   "execution_count": 13,
   "metadata": {},
   "outputs": [
    {
     "name": "stdout",
     "output_type": "stream",
     "text": [
      "42\n"
     ]
    }
   ],
   "source": [
    "# Expression\n",
    "result = '4' + '2'\n",
    "\n",
    "# Statement\n",
    "print(result)"
   ]
  },
  {
   "cell_type": "markdown",
   "metadata": {},
   "source": [
    "Expressions produce values, while statements perform actions. From the above, the result of the expression is printed. The `print` statement displays the value of the result."
   ]
  },
  {
   "cell_type": "markdown",
   "metadata": {},
   "source": [
    "### The Print Function\n",
    "\n",
    "The `print` function is a versatile way to display information in Python. Let's explore various use cases, including printing blank lines, using different arguments, and more."
   ]
  },
  {
   "cell_type": "markdown",
   "metadata": {},
   "source": [
    "#### Printing Blank Lines\n",
    "\n",
    "Printing blank lines is useful for enhancing readability or formatting output. You can achieve this by using the `print` function without any arguments."
   ]
  },
  {
   "cell_type": "code",
   "execution_count": 5,
   "metadata": {},
   "outputs": [
    {
     "name": "stdout",
     "output_type": "stream",
     "text": [
      "\n",
      "\n",
      "\n",
      "\n"
     ]
    }
   ],
   "source": [
    "# Printing a blank line\n",
    "print()\n",
    "\n",
    "# Printing multiple blank lines\n",
    "print('\\n\\n')"
   ]
  },
  {
   "cell_type": "markdown",
   "metadata": {},
   "source": [
    "When you run the code cell above, you'll see one or more blank lines printed. This demonstrates how the `print` function can be used to insert space in your output."
   ]
  },
  {
   "cell_type": "markdown",
   "metadata": {},
   "source": [
    "#### Printing with Different Arguments\n",
    "\n",
    "The `print` function can take multiple arguments, separated by commas. Let's explore this feature:"
   ]
  },
  {
   "cell_type": "code",
   "execution_count": 19,
   "metadata": {},
   "outputs": [
    {
     "name": "stdout",
     "output_type": "stream",
     "text": [
      "Name: Joj Age: 25\n",
      "Joj-25\n"
     ]
    }
   ],
   "source": [
    "name = 'Joj'\n",
    "age = 25\n",
    "\n",
    "# Printing with multiple arguments\n",
    "print('Name:', name, 'Age:', age)\n",
    "\n",
    "# Printing with a separator\n",
    "print(name, age, sep='-')"
   ]
  },
  {
   "cell_type": "markdown",
   "metadata": {},
   "source": [
    "The `print` function accepts multiple arguments, separated by commas. The above cell will print the `name` and the `age`. with and without a separator. The print function is flexible in handling multiple arguments."
   ]
  },
  {
   "cell_type": "markdown",
   "metadata": {},
   "source": [
    "#### Printing in One Line\n",
    "\n",
    "By default, the `print` function adds a newline character at the end. You can change this behavior using the `end` parameter."
   ]
  },
  {
   "cell_type": "code",
   "execution_count": 6,
   "metadata": {},
   "outputs": [
    {
     "name": "stdout",
     "output_type": "stream",
     "text": [
      "This is a single line.\n"
     ]
    }
   ],
   "source": [
    "# Printing without a newline\n",
    "print('This', end=' ')\n",
    "print('is', end=' ')\n",
    "print('a', end=' ')\n",
    "print('single', end=' ')\n",
    "print('line.')"
   ]
  },
  {
   "cell_type": "markdown",
   "metadata": {},
   "source": [
    "Running the above prints in a single line. The `end` parameter allows you to customize the end character."
   ]
  },
  {
   "cell_type": "markdown",
   "metadata": {},
   "source": [
    "### User Input\n",
    "\n",
    "Interacting with users is common in programming. Let's get input from the user."
   ]
  },
  {
   "cell_type": "code",
   "execution_count": 17,
   "metadata": {},
   "outputs": [
    {
     "name": "stdout",
     "output_type": "stream",
     "text": [
      "Hello, Joj.\n"
     ]
    }
   ],
   "source": [
    "user_name = input('Enter your name: ')\n",
    "print('Hello,', user_name + '.')"
   ]
  },
  {
   "cell_type": "markdown",
   "metadata": {},
   "source": [
    "When you run the above, you will be prompted to enter your name, and you'll see a personalized greeting. The input function captures user input and is essential for interactive programs."
   ]
  },
  {
   "cell_type": "markdown",
   "metadata": {},
   "source": [
    "Remember to practice, experiment, and explore additional Python features to enhance your programming skills."
   ]
  },
  {
   "cell_type": "markdown",
   "metadata": {},
   "source": [
    "For further reading and a deeper understanding, consider exploring the [Official Python Documentation](https://docs.python.org/3/).\n",
    "- [Python sys module Documentation](https://docs.python.org/3/library/sys.html?highlight=sys#module-sys)\n",
    "- [Python print function Documentation](https://docs.python.org/3/library/functions.html?highlight=print#print)\n",
    "- [Python Input and Output Documentation](https://docs.python.org/3/tutorial/inputoutput.html)"
   ]
  }
 ],
 "metadata": {
  "kernelspec": {
   "display_name": ".venv",
   "language": "python",
   "name": "python3"
  },
  "language_info": {
   "codemirror_mode": {
    "name": "ipython",
    "version": 3
   },
   "file_extension": ".py",
   "mimetype": "text/x-python",
   "name": "python",
   "nbconvert_exporter": "python",
   "pygments_lexer": "ipython3",
   "version": "3.11.7"
  }
 },
 "nbformat": 4,
 "nbformat_minor": 2
}
