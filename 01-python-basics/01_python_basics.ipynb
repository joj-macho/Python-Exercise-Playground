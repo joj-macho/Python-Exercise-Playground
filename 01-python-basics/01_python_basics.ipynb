{
 "cells": [
  {
   "cell_type": "markdown",
   "metadata": {},
   "source": [
    "# Python Basics: Understanding the Fundamentals\n",
    "\n",
    "Welcome to the \"Python Basics\" tutorial notebook! This guide is designed to build on the concepts introduced in the 'Getting Started with Python Programming' tutorial. This tutorial will cover key basics such as Python Keywords, Python Identifiers, Comments and Docstrings, Variables and naming conventions, Literals, Python Operators (arithmetic, comparison, logical, etc.), and more.\n",
    "\n",
    "I recommend checking out my comprehensive tutorial on [Python Definitions and Concepts](https://joj-macho.github.io/workspace/python/definitions-and-concepts). This resource covers a wide range of topics, including variables, data types, operators and syntax, and more. Providing detailed explanations and examples to set a strong foundation for more advanced concepts in the language."
   ]
  },
  {
   "cell_type": "markdown",
   "metadata": {},
   "source": [
    "### Variables and Identifiers\n",
    "\n",
    "In programming, variables are used to store data in a computer's memory. In Python, you can assign a value to a variable by choosing a name for it and using the equals sign. Variables can store different data types and it's important to choose descriptive variable names. Identifiers are names given to entities in Python, such as variables, functions, classes, etc. Here are some examples of how to set variables in Python."
   ]
  },
  {
   "cell_type": "code",
   "execution_count": 1,
   "metadata": {},
   "outputs": [
    {
     "name": "stdout",
     "output_type": "stream",
     "text": [
      "Assigning a value to a variable example:\n",
      "name = Joj\n",
      "age = 25\n",
      "\n",
      "Performing calculations with variables example:\n",
      "x = 10\n",
      "y = 5\n",
      "x + y = 15\n",
      "\n",
      "Reassigning the value of a variable example:\n",
      "Reasigned value x = 15\n"
     ]
    }
   ],
   "source": [
    "# Assigning a value to a variable\n",
    "name = 'Joj'\n",
    "age = 25\n",
    "print('Assigning a value to a variable example:')\n",
    "print('name =', name)\n",
    "print('age =', age)\n",
    "print()\n",
    "\n",
    "# Performing calculations with variables\n",
    "x = 10\n",
    "y = 5\n",
    "sum_x_y = x + y\n",
    "print('Performing calculations with variables example:')\n",
    "print('x =', x)\n",
    "print('y =', y)\n",
    "print('x + y =', x + y)\n",
    "print()\n",
    "\n",
    "# Reassigning the value of a variable\n",
    "x = 15\n",
    "print('Reassigning the value of a variable example:')\n",
    "print('Reasigned value x =', x)"
   ]
  },
  {
   "cell_type": "markdown",
   "metadata": {},
   "source": [
    "The above examples showcase the use of variables to store values and how identifiers (variable names) can be used to refer to those values in Python. That is,\n",
    "- In the first example, the variables `name` and `age` are assigned the values 'Joj' and 25, respectively. By using the variable names in the print statements, the output displays the values stored in those variables.\n",
    "- In the second example, the variables `x` and `y` are assigned the values 10 and 5, respectively. The `sum_x_y` variable is assigned the result of adding `x` and `y`. The print statements demonstrate the values of `x`, `y`, and the sum of `x` and `y`.\n",
    "- In the third example, the value of the variable `x` is reassigned to 15. The print statement displays the new value of `x`, which is 15."
   ]
  },
  {
   "cell_type": "markdown",
   "metadata": {},
   "source": [
    "#### Naming Variables and Identifiers\n",
    "\n",
    "Identifiers must follow certain rules. There are three main rules for naming variables:\n",
    "\n",
    "1. Variables can only contain letters, numbers, or underscores (_).\n",
    "2. The first character must be a letter or an underscore, not a number.\n",
    "3. The name cannot be a reserved keyword.\n",
    "\n",
    "Additional Considerations\n",
    "\n",
    "- Variables should avoid spaces, using underscores to separate words.\n",
    "- Special characters like \"!, @, #, $, %\" are not allowed.\n",
    "- Python keywords and function names should be avoided.\n",
    "\n",
    "Here are some examples:"
   ]
  },
  {
   "cell_type": "code",
   "execution_count": 2,
   "metadata": {},
   "outputs": [
    {
     "name": "stdout",
     "output_type": "stream",
     "text": [
      "Variable names with letters, numbers, and underscores:\n",
      "Number of students: 30\n",
      "Student name: Alice\n",
      "\n",
      "Variable names starting with a letter or underscore:\n",
      "Name: John\n",
      "Age: 25\n",
      "\n",
      "Variable names with underscores to separate words:\n",
      "First name: Emily\n",
      "Last name: Smith\n",
      "\n",
      "Avoiding special characters in variable names example:\n",
      "Avoid using Python keywords and function names as variable names example:\n"
     ]
    }
   ],
   "source": [
    "# Variable names containing letters, numbers, and underscores\n",
    "num_students = 30\n",
    "student_name = 'Alice'\n",
    "print('Variable names with letters, numbers, and underscores:')\n",
    "print('Number of students:', num_students)\n",
    "print('Student name:', student_name)\n",
    "print()\n",
    "\n",
    "# Variable names starting with a letter or underscore\n",
    "_name = 'John'\n",
    "age = 25\n",
    "print('Variable names starting with a letter or underscore:')\n",
    "print('Name:', _name)\n",
    "print('Age:', age)\n",
    "print()\n",
    "\n",
    "# Variable names with underscores to separate words\n",
    "first_name = 'Emily'\n",
    "last_name = 'Smith'\n",
    "print('Variable names with underscores to separate words:')\n",
    "print('First name:', first_name)\n",
    "print('Last name:', last_name)\n",
    "print()\n",
    "\n",
    "# Avoiding special characters in variable names\n",
    "# quantity! = 10  # Invalid variable name with special character\n",
    "print('Avoiding special characters in variable names example:')\n",
    "# Output\n",
    "# SyntaxError: invalid syntax\n",
    "\n",
    "# Avoiding using Python keywords and function names as variable names\n",
    "# print = 'Hello'  # Avoid using \"print\" as a variable name\n",
    "print('Avoid using Python keywords and function names as variable names example:')\n",
    "# Output:\n",
    "# TypeError: 'str' object is not callable\n"
   ]
  },
  {
   "cell_type": "markdown",
   "metadata": {},
   "source": [
    "- In the first example, the variable names `num_students` and `student_name` adhere to the naming rules by containing letters, numbers, and underscores. The print statements demonstrate the values stored in these variables.\n",
    "- The second example shows variable names `_name` and `age` that start with an underscore and a letter, respectively. The output displays the values assigned to these variables.\n",
    "- The third example uses underscores to separate words in the variable names `first_name` and `last_name`. The print statements showcase the values stored in these variables.\n",
    "- The fourth example demonstrates an invalid variable name `quantity!`, which includes a special character (`!`). This results in a syntax error when trying to assign a value to the variable.\n",
    "- The fifth example highlights the importance of avoiding the use of Python keywords and function names as variable names. The attempt to assign a value to the `print` variable and subsequently use it as a function causes a type error."
   ]
  },
  {
   "cell_type": "markdown",
   "metadata": {},
   "source": [
    "### Python Constants\n",
    "\n",
    "Constants are values that do not change, and in Python, they are defined in a module and written in uppercase letters. While Python does not have a true constant, variables assigned a value that never changes can have a constant feel.\n",
    "\n",
    "Here are some examples that highlight the use of built-in and user-defined constants in Python and how they can be utilized in various contexts, such as calculations and Boolean operations."
   ]
  },
  {
   "cell_type": "code",
   "execution_count": 3,
   "metadata": {},
   "outputs": [
    {
     "name": "stdout",
     "output_type": "stream",
     "text": [
      "Built-in Constants:\n",
      "True: True\n",
      "False: False\n",
      "None: None\n",
      "\n",
      "User-Defined Constants:\n",
      "Speed of Light: 299792458\n",
      "Gravitational Constant: 6.6743e-11\n",
      "Pi: 3.14159\n",
      "\n",
      "Calculating with Constants:\n",
      "Radius: 5\n",
      "Area of Circle: 78.53975\n"
     ]
    }
   ],
   "source": [
    "# Built-in Constants\n",
    "print('Built-in Constants:')\n",
    "print('True:', True)\n",
    "print('False:', False)\n",
    "print('None:', None)\n",
    "print()\n",
    "\n",
    "# User-Defined Constants\n",
    "SPEED_OF_LIGHT = 299792458  # meters per second\n",
    "GRAVITATIONAL_CONSTANT = 6.67430e-11  # m^3 kg^−1 s^−2\n",
    "PI = 3.14159\n",
    "print('User-Defined Constants:')\n",
    "print('Speed of Light:', SPEED_OF_LIGHT)\n",
    "print('Gravitational Constant:', GRAVITATIONAL_CONSTANT)\n",
    "print('Pi:', PI)\n",
    "print()\n",
    "\n",
    "# Constants in calculations\n",
    "radius = 5\n",
    "area_of_circle = PI * radius ** 2\n",
    "print('Calculating with Constants:')\n",
    "print('Radius:', radius)\n",
    "print('Area of Circle:', area_of_circle)"
   ]
  },
  {
   "cell_type": "markdown",
   "metadata": {},
   "source": [
    "- In the first example, the built-in constants `True`, `False`, and `None` are showcased. These constants are commonly used in Boolean operations.\n",
    "- The second example demonstrates user-defined constants. The variables `SPEED_OF_LIGHT`, `GRAVITATIONAL_CONSTANT`, and `PI` are assigned values that are intended to remain constant throughout the program. By using uppercase letters, they are distinguished from regular variables.\n",
    "- The third example illustrates how constants can be used in calculations. The `radius` variable is assigned a value of 5, and the `area_of_circle` is calculated using the formula $\\pi \\times r^2$, where $\\pi$ is the user-defined constant and `radius` is a variable. The output displays the radius and the calculated area of the circle."
   ]
  },
  {
   "cell_type": "markdown",
   "metadata": {},
   "source": [
    "### Comments and Docstrings\n",
    "\n",
    "Comments are notes that programmers add to their code to explain what the code is doing. In Python, comments begin with the `#` character and continue to the end of the line. The computer ignores all of the comments in the program.\n",
    "\n",
    "In addition to using `#` symbols to create single-line comments, you can also use triple quotes (`'''` or `\"\"\"`) to create multi-line comments. These are useful for adding longer explanations or documentation to your code. Let's explore how to use them effectively."
   ]
  },
  {
   "cell_type": "code",
   "execution_count": null,
   "metadata": {},
   "outputs": [],
   "source": [
    "# Single-Line comment\n",
    "\n",
    "print('Hello, World!')  # In-line comment\n",
    "\n",
    "'''\n",
    "This is a multi-line comment.\n",
    "It provides detailed information about the code.\n",
    "'''\n",
    "print('This is a comment demonstration.')\n",
    "\n",
    "def some_function():\n",
    "    \"\"\"This is a function docstring.\"\"\"\n",
    "    pass"
   ]
  },
  {
   "cell_type": "markdown",
   "metadata": {},
   "source": [
    "\n",
    "Single-line comments start with `#`, while docstrings are enclosed in triple quotes. "
   ]
  },
  {
   "cell_type": "markdown",
   "metadata": {},
   "source": [
    "### Python Statements and Expressions\n",
    "\n",
    "A statement is a single line of code that performs a specific action, like assigning a value to a variable or printing a message to the screen. An expression is a combination of values, variables, and operators that produces a result.\n",
    "\n",
    "Here are some examples showing the concepts of statements and expressions in Python, emphasizing their role in controlling program flow and performing calculations based on values, variables, and operators."
   ]
  },
  {
   "cell_type": "code",
   "execution_count": 5,
   "metadata": {},
   "outputs": [
    {
     "name": "stdout",
     "output_type": "stream",
     "text": [
      "Python Statements:\n",
      "The value of x is: 5\n",
      "x is positive\n",
      "\n",
      "Python Expressions:\n",
      "The value of b is: 32\n",
      "Current value of i: 0\n",
      "Result of the expression: 0\n",
      "Current value of i: 1\n",
      "Result of the expression: 2\n",
      "Current value of i: 2\n",
      "Result of the expression: 4\n",
      "Current value of i: 3\n",
      "Result of the expression: 6\n",
      "Current value of i: 4\n",
      "Result of the expression: 8\n"
     ]
    }
   ],
   "source": [
    "# Statements\n",
    "print('Python Statements:')\n",
    "x = 5  # Assignment statement\n",
    "print('The value of x is:', x)\n",
    "\n",
    "if x > 0:  # Conditional statement\n",
    "    print('x is positive')  # Executed if the condition is True (statement)\n",
    "else:\n",
    "    print('x is non-positive')  # Executed if the condition is False (statement)\n",
    "\n",
    "print()\n",
    "\n",
    "# Expressions\n",
    "print('Python Expressions:')\n",
    "a = 10  # Assignment statement\n",
    "b = 3 * a + 2  # Expression: calculation using operators and variables\n",
    "print('The value of b is:', b)  # Printing the result of an expression (statement)\n",
    "\n",
    "# Expression in Loop\n",
    "for i in range(5):  # Looping statement\n",
    "    print('Current value of i:', i)  # Printing the value of i in each iteration (statement)\n",
    "    result = i * 2  # Expression: calculation using variable i\n",
    "    print('Result of the expression:', result)  # Printing the result of the expression (statement)\n"
   ]
  },
  {
   "cell_type": "markdown",
   "metadata": {},
   "source": [
    "- The first set of examples showcases statements. The first statement assigns a value to a variable `x`. The second statement prints a message that includes the value of `x`. The third statement is a conditional statement that checks whether `x` is greater than 0 and executes different actions based on the result.\n",
    "- The second set of examples highlights expressions. In the first example, an expression is used to calculate the value of `b` based on a mathematical formula involving the variable `a`. The result is then printed using a print statement. The second example demonstrates an expression used in a loop, where the expression calculates the result by multiplying the current value of `i` by 2 in each iteration."
   ]
  },
  {
   "cell_type": "markdown",
   "metadata": {},
   "source": [
    "### Operators in Python\n",
    "\n",
    "Operators are symbols or special keywords in Python that perform various operations on values and variables. Some common types of Python operators:\n",
    "\n",
    "- **Arithmetic operators**: Perform basic mathematical operations such as addition (`+`), subtraction (`-`), multiplication (`*`), division (`/`), and modulus (`%`).\n",
    "- **Comparison operators**: Compare two values and return a Boolean result, such as equal to (`==`), not equal to (`!=`), greater than (`>`), less than (`<`), etc.\n",
    "- **Logical operators**: Combine Boolean values and return a Boolean result, such as `and`, `or`, and `not`.\n",
    "- **Assignment operators**: Assign values to variables, such as =, +=, -=, etc.\n",
    "- **Membership operators**: Test if a value is a member of a sequence, such as `in` and `not in`.\n",
    "- **Identity operators**: Compare the identity of two objects, such as `is` and `is not`.\n",
    "\n",
    "Here are some examples providing a comprehensive overview of various operators in Python and demonstrate their usage in different contexts."
   ]
  },
  {
   "cell_type": "code",
   "execution_count": 7,
   "metadata": {},
   "outputs": [
    {
     "name": "stdout",
     "output_type": "stream",
     "text": [
      "Arithmetic operators:\n",
      "Addition: 13\n",
      "Subtraction: 7\n",
      "Multiplication: 30\n",
      "Division: 3.3333333333333335\n",
      "Modulus: 1\n",
      "\n",
      "Comparison operators:\n",
      "Equal: False\n",
      "Not equal: True\n",
      "Greater than: False\n",
      "Less than: True\n",
      "\n",
      "Logical operators:\n",
      "Logical AND: False\n",
      "Logical OR: True\n",
      "Logical NOT: False\n",
      "\n",
      "Assignment operators:\n",
      "Updated value of num: 6.0\n",
      "\n",
      "Membership operators:\n",
      "Check if 3 is in numbers: True\n",
      "Check if 6 is not in numbers: True\n",
      "\n",
      "Identity operators:\n",
      "Check if x is y: True\n",
      "Check if x is not z: True\n"
     ]
    }
   ],
   "source": [
    "# Arithmetic operators\n",
    "x = 10\n",
    "y = 3\n",
    "addition = x + y\n",
    "subtraction = x - y\n",
    "multiplication = x * y\n",
    "division = x / y\n",
    "modulus = x % y\n",
    "\n",
    "print('Arithmetic operators:')\n",
    "print('Addition:', addition)\n",
    "print('Subtraction:', subtraction)\n",
    "print('Multiplication:', multiplication)\n",
    "print('Division:', division)\n",
    "print('Modulus:', modulus)\n",
    "print()\n",
    "\n",
    "# Comparison operators\n",
    "a = 5\n",
    "b = 8\n",
    "equal = a == b  # Equal to operator\n",
    "not_equal = a != b  # Not equal to operator\n",
    "greater_than = a > b  # Greater than operator\n",
    "less_than = a < b  # Less than operator\n",
    "\n",
    "print('Comparison operators:')\n",
    "print('Equal:', equal)\n",
    "print('Not equal:', not_equal)\n",
    "print('Greater than:', greater_than)\n",
    "print('Less than:', less_than)\n",
    "print()\n",
    "\n",
    "# Logical operators\n",
    "p = True\n",
    "q = False\n",
    "logical_and = p and q  # Logical AND operator\n",
    "logical_or = p or q  # Logical OR operator\n",
    "logical_not = not p  # Logical NOT operator\n",
    "\n",
    "print('Logical operators:')\n",
    "print('Logical AND:', logical_and)\n",
    "print('Logical OR:', logical_or)\n",
    "print('Logical NOT:', logical_not)\n",
    "print()\n",
    "\n",
    "# Assignment operators\n",
    "num = 10\n",
    "num += 5  # Addition assignment operator\n",
    "num -= 3  # Subtraction assignment operator\n",
    "num *= 2  # Multiplication assignment operator\n",
    "num /= 4  # Division assignment operator\n",
    "\n",
    "print('Assignment operators:')\n",
    "print('Updated value of num:', num)\n",
    "print()\n",
    "\n",
    "# Membership operators\n",
    "numbers = [1, 2, 3, 4, 5]\n",
    "check1 = 3 in numbers  # Membership operator: check if 3 is in numbers\n",
    "check2 = 6 not in numbers  # Membership operator: check if 6 is not in numbers\n",
    "\n",
    "print('Membership operators:')\n",
    "print('Check if 3 is in numbers:', check1)\n",
    "print('Check if 6 is not in numbers:', check2)\n",
    "print()\n",
    "\n",
    "# Identity operators\n",
    "x = 10\n",
    "y = 10\n",
    "z = 15\n",
    "\n",
    "identity1 = x is y  # Identity operator: check if x is the same object as y\n",
    "identity2 = x is not z  # Identity operator: check if x is not the same object as z\n",
    "\n",
    "print('Identity operators:')\n",
    "print('Check if x is y:', identity1)\n",
    "print('Check if x is not z:', identity2)\n"
   ]
  },
  {
   "cell_type": "markdown",
   "metadata": {},
   "source": [
    "- The first set of examples showcases arithmetic operators, which perform basic mathematical operations such as addition, subtraction, multiplication, division, and modulus. The values of `x` and `y` are used to calculate the results using these operators.\n",
    "- The second set of examples highlights comparison operators, which compare two values and return a Boolean result. The examples demonstrate equal to, not equal to, greater than, and less than operators. The results of the comparisons are stored in variables.\n",
    "- The third set of examples demonstrates logical operators, which combine Boolean values and return a Boolean result. The examples show logical AND, logical OR, and logical NOT operators in action, using Boolean variables `p` and `q`.\n",
    "- The fourth set of examples illustrates assignment operators, which assign values to variables. The examples show addition, subtraction, multiplication, and division assignment operators, which perform the corresponding operation and update the value of the variable.\n",
    "- The fifth set of examples showcases membership operators, which test if a value is a member of a sequence. The examples use the membership operator `in` and `not in` to check if certain values are present or not present in a list.\n",
    "- The final set of examples demonstrates identity operators, which compare the identity of two objects. The examples use the identity operators `is` and `is not` to check if variables refer to the same object or not."
   ]
  },
  {
   "cell_type": "markdown",
   "metadata": {},
   "source": [
    "### Data Types in Python\n",
    "\n",
    "Python is a dynamically typed language, which means that variables can hold values of different types. Some common data types in Python include:\n",
    "\n",
    "- **Numeric types**: Integers (`int`), floating-point numbers (`float`), and complex numbers (`complex`).\n",
    "- **Boolean type**: Represents the truth values `True` and `False`.\n",
    "- **Strings**: Sequences of characters, enclosed in single quotes (`''`) or double quotes (`\"\"`).\n",
    "- **Lists**: Ordered collections of items, enclosed in square brackets (`[]`).\n",
    "- **Tuples**: Similar to lists, but immutable (cannot be modified), enclosed in parentheses `()`.\n",
    "- **Dictionaries**: Key-value pairs, enclosed in curly braces (`{}`) with each pair separated by a colon (`:`).\n",
    "\n",
    "Here are examples that provide a comprehensive overview of different data types in Python and demonstrate their usage with variables."
   ]
  },
  {
   "cell_type": "code",
   "execution_count": 8,
   "metadata": {},
   "outputs": [
    {
     "name": "stdout",
     "output_type": "stream",
     "text": [
      "Numeric types:\n",
      "Integer: 10\n",
      "Float: 3.14\n",
      "Complex: (2+3j)\n",
      "\n",
      "Boolean type:\n",
      "True: True\n",
      "False: False\n",
      "\n",
      "Strings:\n",
      "Message: Hello, World!\n",
      "Name: Joj\n",
      "\n",
      "Lists:\n",
      "Fruits: ['apple', 'banana', 'orange']\n",
      "Numbers: [1, 2, 3, 4, 5]\n",
      "\n",
      "Tuples:\n",
      "Coordinates: (10, 20)\n",
      "Colors: ('red', 'green', 'blue')\n",
      "\n",
      "Dictionaries:\n",
      "Student: {'name': 'Joj', 'age': 25, 'grade': 'A'}\n",
      "Employee: {'name': 'John', 'age': 30, 'position': 'Manager'}\n"
     ]
    }
   ],
   "source": [
    "# Numeric types\n",
    "integer_num = 10\n",
    "float_num = 3.14\n",
    "complex_num = 2 + 3j\n",
    "\n",
    "print('Numeric types:')\n",
    "print('Integer:', integer_num)\n",
    "print('Float:', float_num)\n",
    "print('Complex:', complex_num)\n",
    "print()\n",
    "\n",
    "# Boolean type\n",
    "is_true = True\n",
    "is_false = False\n",
    "\n",
    "print('Boolean type:')\n",
    "print('True:', is_true)\n",
    "print('False:', is_false)\n",
    "print()\n",
    "\n",
    "# Strings\n",
    "message = \"Hello, World!\"\n",
    "name = 'Joj'\n",
    "\n",
    "print('Strings:')\n",
    "print('Message:', message)\n",
    "print('Name:', name)\n",
    "print()\n",
    "\n",
    "# Lists\n",
    "fruits = ['apple', 'banana', 'orange']\n",
    "numbers = [1, 2, 3, 4, 5]\n",
    "\n",
    "print('Lists:')\n",
    "print('Fruits:', fruits)\n",
    "print('Numbers:', numbers)\n",
    "print()\n",
    "\n",
    "# Tuples\n",
    "coordinates = (10, 20)\n",
    "colors = ('red', 'green', 'blue')\n",
    "\n",
    "print('Tuples:')\n",
    "print('Coordinates:', coordinates)\n",
    "print('Colors:', colors)\n",
    "print()\n",
    "\n",
    "# Dictionaries\n",
    "student = {'name': 'Joj', 'age': 25, 'grade': 'A'}\n",
    "employee = {'name': 'John', 'age': 30, 'position': 'Manager'}\n",
    "\n",
    "print('Dictionaries:')\n",
    "print('Student:', student)\n",
    "print('Employee:', employee)\n"
   ]
  },
  {
   "cell_type": "markdown",
   "metadata": {},
   "source": [
    "- The first set of examples showcases numeric types, including integers, floating-point numbers, and complex numbers. Variables are assigned values of these types, and their contents are printed.\n",
    "- The second set of examples demonstrates the Boolean type, which represents truth values `True` and `False`. Variables are assigned boolean values, and their contents are printed.\n",
    "- The third set of examples focuses on strings, which are sequences of characters. Variables are assigned string values, and their contents are printed.\n",
    "- The fourth set of examples highlights lists, which are ordered collections of items. Variables are assigned lists of different elements, and their contents are printed.\n",
    "- The fifth set of examples showcases tuples, which are similar to lists but immutable (cannot be modified). Variables are assigned tuples of values, and their contents are printed.\n",
    "- The final set of examples demonstrates dictionaries, which store key-value pairs. Variables are assigned dictionaries with different key-value pairs, and their contents are printed.\n",
    "\n",
    "I will take a closer at Python Data Structures in the preceding examples."
   ]
  },
  {
   "cell_type": "markdown",
   "metadata": {},
   "source": [
    "## Exercises"
   ]
  },
  {
   "cell_type": "markdown",
   "metadata": {},
   "source": [
    "Now, let's apply the concepts we've learned through a series of exercises."
   ]
  },
  {
   "cell_type": "markdown",
   "metadata": {},
   "source": [
    "### Adding Two Numbers"
   ]
  },
  {
   "cell_type": "code",
   "execution_count": 9,
   "metadata": {},
   "outputs": [
    {
     "name": "stdout",
     "output_type": "stream",
     "text": [
      "Sum: 6\n"
     ]
    }
   ],
   "source": [
    "num1 = 4\n",
    "num2 = 2\n",
    "result = num1 + num2\n",
    "print('Sum:', result)"
   ]
  },
  {
   "cell_type": "markdown",
   "metadata": {},
   "source": [
    "This exercise introduces basic arithmetic operations. When you run the above, you will see the sum of two numbers printed. "
   ]
  },
  {
   "cell_type": "markdown",
   "metadata": {},
   "source": [
    "### Adding More Numbers"
   ]
  },
  {
   "cell_type": "code",
   "execution_count": 10,
   "metadata": {},
   "outputs": [
    {
     "name": "stdout",
     "output_type": "stream",
     "text": [
      "Sum: 60\n"
     ]
    }
   ],
   "source": [
    "num1 = 10\n",
    "num2 = 20\n",
    "num3 = 30\n",
    "result = num1 + num2 + num3\n",
    "print('Sum:', result)"
   ]
  },
  {
   "cell_type": "markdown",
   "metadata": {},
   "source": [
    "Running the above will print the sum of the numbers you provided. Can expand to include other arithmetic operations and however many numbers you want to operate on."
   ]
  },
  {
   "cell_type": "markdown",
   "metadata": {},
   "source": [
    "### Finding the Square Root\n",
    "\n",
    "In mathematics, the square root of a number is a value that, when multiplied by itself, gives the original number. The square root is denoted by the radical symbol (√)."
   ]
  },
  {
   "cell_type": "code",
   "execution_count": 12,
   "metadata": {},
   "outputs": [
    {
     "name": "stdout",
     "output_type": "stream",
     "text": [
      "Square Root (Arithmetic): 9.0\n",
      "Square Root (Math Module): 6.0\n"
     ]
    }
   ],
   "source": [
    "# Using arithmetic operators\n",
    "num = 81\n",
    "sqrt_result = num ** 0.5\n",
    "print('Square Root (Arithmetic):', sqrt_result)\n",
    "\n",
    "# Using the math module\n",
    "import math\n",
    "\n",
    "num = 36\n",
    "sqrt_result = math.sqrt(num)\n",
    "print('Square Root (Math Module):', sqrt_result)"
   ]
  },
  {
   "cell_type": "markdown",
   "metadata": {},
   "source": [
    "When you run the above code cell, you will see the square root of a number calculated using arithmetic operators and using the `math` module.\n",
    "- The expression `num ** 0.5` raises a number to the power of 0.5 which is equivalent to taking the square root.\n",
    "- The `math.sqrt()` function specifically computes the square root of a given number."
   ]
  },
  {
   "cell_type": "markdown",
   "metadata": {},
   "source": [
    "### Calculate the Area of a Rectangle\n",
    "\n",
    "The area of a rectangle can be calculated using the formula $area = length \\times width$."
   ]
  },
  {
   "cell_type": "code",
   "execution_count": 13,
   "metadata": {},
   "outputs": [
    {
     "name": "stdout",
     "output_type": "stream",
     "text": [
      "Area of Rectangle: 50\n"
     ]
    }
   ],
   "source": [
    "length = 5\n",
    "width = 10\n",
    "area = length * width\n",
    "print('Area of Rectangle:', area)"
   ]
  },
  {
   "cell_type": "markdown",
   "metadata": {},
   "source": [
    "Running the code cell above returns the area of a rectangle calculated using the given length and width. This exercise involves basic mathematical calculations, showcasing how Python can be used for straightforward mathematical operations."
   ]
  },
  {
   "cell_type": "markdown",
   "metadata": {},
   "source": [
    "### Calculate the Volume of a Box\n",
    "\n",
    "The volume of a box is calculated by multiplying its length, width, and height. That is use the volume of a box can be calculated using the formula $volume = length \\times width \\times height$."
   ]
  },
  {
   "cell_type": "code",
   "execution_count": 3,
   "metadata": {},
   "outputs": [
    {
     "name": "stdout",
     "output_type": "stream",
     "text": [
      "Volume of Box: 150\n"
     ]
    }
   ],
   "source": [
    "length = 5\n",
    "width = 10\n",
    "height = 3\n",
    "volume = length * width * height\n",
    "print('Volume of Box:', volume)"
   ]
  },
  {
   "cell_type": "markdown",
   "metadata": {},
   "source": [
    "This exercise simply extends the above exercise on calculating the area of a rectangle, and demonstrates how Python can be applied to more complex (relatively?) mathematical calculations."
   ]
  },
  {
   "cell_type": "markdown",
   "metadata": {},
   "source": [
    "### Splitting the Bill\n",
    "\n",
    "Calculating the fair share when splitting a bill among friends is a common scenario. Let's create a Python script that prompts the user for the total bill cost and the number of people, then calculates the amount each person should pay."
   ]
  },
  {
   "cell_type": "code",
   "execution_count": 4,
   "metadata": {},
   "outputs": [
    {
     "name": "stdout",
     "output_type": "stream",
     "text": [
      "Each person should pay $ 3.0\n"
     ]
    }
   ],
   "source": [
    "total_bill = float(input('What is the total cost of the bill? '))\n",
    "num_people = int(input('How many people are splitting the bill? '))\n",
    "\n",
    "bill_split = total_bill / num_people\n",
    "print('Each person should pay $', bill_split)"
   ]
  },
  {
   "cell_type": "markdown",
   "metadata": {},
   "source": [
    "The above will prompt you to enter the total bill cost and the number of people. The script will then calculate and display the amount each person should pay. This exercise introduces the use of user input in Python."
   ]
  },
  {
   "cell_type": "markdown",
   "metadata": {},
   "source": [
    "### Adding a Tip\n",
    "\n",
    "Let's enhance the bill splitting script by including the option to add a tip. The user can now input the tip percentage, and the script will calculate the total bill with the tip and the amount each person should pay."
   ]
  },
  {
   "cell_type": "code",
   "execution_count": 5,
   "metadata": {},
   "outputs": [
    {
     "name": "stdout",
     "output_type": "stream",
     "text": [
      "Each person should pay $ 4.8\n"
     ]
    }
   ],
   "source": [
    "total_bill = float(input('What is the total cost of the bill? '))\n",
    "num_people = int(input('How many people are splitting the bill? '))\n",
    "tip_percentage = float(input('Enter the tip percentage: '))\n",
    "\n",
    "total_with_tip = total_bill * (1 + tip_percentage / 100)\n",
    "\n",
    "bill_split = total_with_tip / num_people\n",
    "print('Each person should pay $', bill_split)"
   ]
  },
  {
   "cell_type": "markdown",
   "metadata": {},
   "source": [
    "The above will prompt you to enter the total bill cost, the number of people, and the tip percentage. The script will then calculate the total bill with the tip and the amount each person should pay. This extension adds complexity to the script and demonstrates more advanced user input and mathematical calculations."
   ]
  },
  {
   "cell_type": "markdown",
   "metadata": {},
   "source": [
    "### Time Conversion\n",
    "\n",
    "Let's create a Python script that takes the user's input for the number of days and calculates the equivalent hours, minutes, and seconds."
   ]
  },
  {
   "cell_type": "code",
   "execution_count": 6,
   "metadata": {},
   "outputs": [
    {
     "name": "stdout",
     "output_type": "stream",
     "text": [
      "1 days is equal to:\n",
      "24 hours\n",
      "1440 minutes\n",
      "86400 seconds\n"
     ]
    }
   ],
   "source": [
    "days = int(input('Enter the number of days: '))\n",
    "\n",
    "hours = days * 24\n",
    "minutes = hours * 60\n",
    "seconds = minutes * 60\n",
    "\n",
    "print(f'{days} days is equal to:')\n",
    "print(f'{hours} hours')\n",
    "print(f'{minutes} minutes')\n",
    "print(f'{seconds} seconds')\n"
   ]
  },
  {
   "cell_type": "markdown",
   "metadata": {},
   "source": [
    "Run the code cell, and you'll be prompted to enter the number of days. The script will then calculate and display the equivalent hours, minutes, and seconds. This exercise introduces basic arithmetic operations and user input."
   ]
  },
  {
   "cell_type": "markdown",
   "metadata": {},
   "source": [
    "### Convert Weight\n",
    "\n",
    "Let's create a Python script that takes the user's input for weight in kilograms and converts it to pounds."
   ]
  },
  {
   "cell_type": "code",
   "execution_count": 7,
   "metadata": {},
   "outputs": [
    {
     "name": "stdout",
     "output_type": "stream",
     "text": [
      "12.0 kilograms is equal to 26.455439999999996 pounds\n"
     ]
    }
   ],
   "source": [
    "weight_kg = float(input('Enter weight in kilograms: '))\n",
    "\n",
    "weight_pounds = weight_kg * 2.20462\n",
    "\n",
    "print(f'{weight_kg} kilograms is equal to {weight_pounds} pounds')"
   ]
  },
  {
   "cell_type": "markdown",
   "metadata": {},
   "source": [
    "Run the code cell, and you'll be prompted to enter the weight in kilograms. The script will then convert and display the weight in pounds. This exercise focuses on unit conversion and user input."
   ]
  },
  {
   "cell_type": "markdown",
   "metadata": {},
   "source": [
    "### Convert Length\n",
    "\n",
    "Let's create a Python script that takes the user's input for length in meters and converts it to feet."
   ]
  },
  {
   "cell_type": "code",
   "execution_count": 8,
   "metadata": {},
   "outputs": [
    {
     "name": "stdout",
     "output_type": "stream",
     "text": [
      "12.0 meters is equal to 39.37008 feet\n"
     ]
    }
   ],
   "source": [
    "length_meters = float(input('Enter length in meters: '))\n",
    "\n",
    "length_feet = length_meters * 3.28084\n",
    "\n",
    "print(f'{length_meters} meters is equal to {length_feet} feet')"
   ]
  },
  {
   "cell_type": "markdown",
   "metadata": {},
   "source": [
    "Run the code cell, and you'll be prompted to enter the length in meters. The script will then convert and display the length in feet. This exercise also involves unit conversion and user input."
   ]
  },
  {
   "cell_type": "markdown",
   "metadata": {},
   "source": [
    "### Area of a Circle and Volume of a Sphere\n",
    "\n",
    "Let's create a Python script that takes the user's input for the radius of a circle and calculates its area. Additionally, the script will calculate the volume of a sphere with the same radius."
   ]
  },
  {
   "cell_type": "code",
   "execution_count": 9,
   "metadata": {},
   "outputs": [
    {
     "name": "stdout",
     "output_type": "stream",
     "text": [
      "The area of the circle is 78.53981633974483\n",
      "The volume of the sphere is 523.5987755982989\n"
     ]
    }
   ],
   "source": [
    "import math\n",
    "\n",
    "radius = float(input('Enter the radius: '))\n",
    "\n",
    "# Calculate area of circle\n",
    "area_circle = math.pi * (radius ** 2)\n",
    "\n",
    "# Calculate volume of sphere\n",
    "volume_sphere = (4 / 3) * math.pi * (radius ** 3)\n",
    "\n",
    "print(f'The area of the circle is {area_circle}')\n",
    "print(f'The volume of the sphere is {volume_sphere}')"
   ]
  },
  {
   "cell_type": "markdown",
   "metadata": {},
   "source": [
    "After entering the radius value, the script will then calculate and display the area of the circle and the volume of the sphere. This exercise introduces the use of mathematical constants and more complex calculations."
   ]
  }
 ],
 "metadata": {
  "kernelspec": {
   "display_name": ".venv",
   "language": "python",
   "name": "python3"
  },
  "language_info": {
   "codemirror_mode": {
    "name": "ipython",
    "version": 3
   },
   "file_extension": ".py",
   "mimetype": "text/x-python",
   "name": "python",
   "nbconvert_exporter": "python",
   "pygments_lexer": "ipython3",
   "version": "3.11.7"
  }
 },
 "nbformat": 4,
 "nbformat_minor": 2
}
