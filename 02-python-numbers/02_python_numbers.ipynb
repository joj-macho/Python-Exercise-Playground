{
 "cells": [
  {
   "cell_type": "markdown",
   "metadata": {},
   "source": [
    "# Python Numeric Data Types\n",
    "\n",
    "Welcome to the 'Python Numeric Data Types' exercise notebook! This notebook explores fundamental concepts related to numeric data types in Python. Items to be covered include; precedence of arithmetic operations, integers, bitwise operators, integer-specific methods, floating-point numbers, float precision challenges, rounding numbers, decimal and fraction numeric types, complex numbers, complex-specific functions and methods, type casting, and working with long numbers.\n",
    "\n",
    "For an in-depth exploration of Python Numeric Data Types, refer to my article [Numeric Data Types](https://joj-macho.github.io/workspace/python/numbers) for a clearer understanding."
   ]
  },
  {
   "cell_type": "markdown",
   "metadata": {},
   "source": [
    "Python supports various arithmetic operations on numeric data types, including integers, floating-point numbers, and complex numbers."
   ]
  },
  {
   "cell_type": "code",
   "execution_count": 2,
   "metadata": {},
   "outputs": [
    {
     "name": "stdout",
     "output_type": "stream",
     "text": [
      "Addition Result: 13.5\n",
      "Subtraction Result: -6.5\n",
      "Multiplication Result: (20+50j)\n",
      "Division Result: 2.857142857142857\n",
      "Exponentiation Result: 100\n",
      "Modulo Result: 3.0\n"
     ]
    }
   ],
   "source": [
    "num1 = 10\n",
    "num2 = 3.5\n",
    "num3 = complex(2, 5)\n",
    "\n",
    "sum_result = num1 + num2\n",
    "print('Addition Result:', sum_result)\n",
    "\n",
    "diff_result = num2 - num1\n",
    "print('Subtraction Result:', diff_result)\n",
    "\n",
    "product_result = num1 * num3\n",
    "print('Multiplication Result:', product_result)\n",
    "\n",
    "division_result = num1 / num2\n",
    "print('Division Result:', division_result)\n",
    "\n",
    "exponent_result = num1 ** 2\n",
    "print('Exponentiation Result:', exponent_result)\n",
    "\n",
    "modulo_result = num1 % num2\n",
    "print('Modulo Result:', modulo_result)"
   ]
  },
  {
   "cell_type": "markdown",
   "metadata": {},
   "source": [
    "The example above demonstrates common arithmetic operations in Python, including addition, subtraction, multiplication, division, exponentiation, and modulo (remainder)."
   ]
  },
  {
   "cell_type": "markdown",
   "metadata": {},
   "source": [
    "### Precedence of Arithmetic Operations\n",
    "\n",
    "When multiple arithmetic operations are present in an expression, Python follows a specific order of precedence. Understanding this order ensures that calculations are performed correctly. The acronym PEMDAS can help remember the order: Parentheses, Exponents, Multiplication and Division, Addition and Subtraction."
   ]
  },
  {
   "cell_type": "code",
   "execution_count": 3,
   "metadata": {},
   "outputs": [
    {
     "name": "stdout",
     "output_type": "stream",
     "text": [
      "25.0\n"
     ]
    }
   ],
   "source": [
    "result = 2 + 3 * 4 ** 2 / 2 - 1\n",
    "print(result)"
   ]
  },
  {
   "cell_type": "markdown",
   "metadata": {},
   "source": [
    "The example above illustrates the application of precedence rules. The expression `2 + 3 * 4 ** 2 / 2 - 1` is evaluated according to the order of operations, resulting in the correct answer.\n",
    "\n",
    "- **Exponents:** `4 ** 2` is evaluated first, resulting in `16`.\n",
    "- **Multiplication and Division:** `3 * 16 / 2` is evaluated from left to right, resulting in `24.0`.\n",
    "- **Addition and Subtraction:** `2 + 24.0 - 1` is evaluated from left to right, resulting in `25.0`.\n",
    "\n",
    "Therefore, the final result of the expression is `25.0`."
   ]
  },
  {
   "cell_type": "markdown",
   "metadata": {},
   "source": [
    "### Integers\n",
    "\n",
    "Integers are whole numbers without decimal points. You can add (+), subtract (-), multiply (*), and divide (/) integers as demonstrated above. Additionally, Python provides specific methods for working with integers."
   ]
  },
  {
   "cell_type": "code",
   "execution_count": 5,
   "metadata": {},
   "outputs": [
    {
     "name": "stdout",
     "output_type": "stream",
     "text": [
      "Bit Length: 6\n",
      "To Bytes: b'\\x00*'\n",
      "From Bytes: 42\n"
     ]
    }
   ],
   "source": [
    "num = 42\n",
    "\n",
    "bit_length = num.bit_length()\n",
    "to_bytes = num.to_bytes(2, byteorder='big')\n",
    "from_bytes = int.from_bytes(to_bytes, byteorder='big')\n",
    "\n",
    "print('Bit Length:', bit_length)\n",
    "print('To Bytes:', to_bytes)\n",
    "print('From Bytes:', from_bytes)"
   ]
  },
  {
   "cell_type": "markdown",
   "metadata": {},
   "source": [
    "Here, we demonstrate three integer-specific methods:\n",
    "\n",
    "- `bit_length()`: This method returns the number of bits required to represent the integer. In the example, `bit_length` is calculated for the integer `num=42`.\n",
    "\n",
    "- `to_bytes(length, byteorder)`: This method converts the integer to a byte representation. The length parameter specifies the number of bytes, and byteorder determines the byte order.\n",
    "\n",
    "- `from_bytes(bytes, byteorder)`: This method converts the byte representation back to an integer. It takes the bytes obtained from `to_bytes` and the byte order, returning the original integer.\n",
    "\n",
    "Run the code cell, and you'll see the results of integer-specific methods. These methods provide additional functionalities specific to integers, allowing you to work with them in more nuanced ways.\n",
    "\n",
    "Remember, integers in Python are suitable for scenarios involving discrete values and whole numbers without decimal points. The methods showcased above add flexibility when dealing with integer-related operations."
   ]
  },
  {
   "cell_type": "markdown",
   "metadata": {},
   "source": [
    "### Floating-Point Numbers and Precision\n",
    "\n",
    "In Python, any number with a decimal point is considered a float. Floating-point numbers represent real numbers in computer memory using finite digital precision. However, this finite representation can lead to unexpected results and small discrepancies in calculations.\n",
    "\n",
    "Let's explore the examples demonstrating the challenges with precision in floating-point numbers:"
   ]
  },
  {
   "cell_type": "code",
   "execution_count": 10,
   "metadata": {},
   "outputs": [
    {
     "name": "stdout",
     "output_type": "stream",
     "text": [
      "Sum Result: 0.30000000000000004\n",
      "Product Result: 0.30000000000000004\n"
     ]
    }
   ],
   "source": [
    "num1 = 0.1\n",
    "num2 = 0.2\n",
    "\n",
    "# Precision in Floating-Point Addition\n",
    "sum_result = num1 + num2\n",
    "print('Sum Result:', sum_result)\n",
    "\n",
    "# Precision in Floating-Point Multiplication\n",
    "product_result = 3 * num1\n",
    "print('Product Result:', product_result)"
   ]
  },
  {
   "cell_type": "markdown",
   "metadata": {},
   "source": [
    "When you run the code cell above, you'll observe the results of floating-point operations and precision challenges:\n",
    "\n",
    "- The `sum_result` demonstrates the precision issue in floating-point addition. While adding 0.2 and 0.1 should ideally result in 0.3, due to the finite precision of floating-point representation, the actual result includes a small rounding error.\n",
    "- The `product_result` illustrates the precision issue in floating-point multiplication. Multiplying 3 and 0.1 should yield 0.3, but once again, the limited precision leads to a slightly different result.\n",
    "\n",
    "Floating-point numbers have inherent limitations in precision, and arithmetic operations may result in rounding errors. To overcome this issue, Python provides the `decimal` module, which allows for more precise decimal arithmetic. Let's explore an alternative using the `decimal` module:"
   ]
  },
  {
   "cell_type": "code",
   "execution_count": 12,
   "metadata": {},
   "outputs": [
    {
     "name": "stdout",
     "output_type": "stream",
     "text": [
      "Sum Result: 0.3\n",
      "Product Result: 0.3\n"
     ]
    }
   ],
   "source": [
    "from decimal import Decimal\n",
    "\n",
    "num1 = Decimal('0.1')\n",
    "num2 = Decimal('0.2')\n",
    "\n",
    "# Precision in Floating-Point Addition\n",
    "sum_result = num1 + num2\n",
    "print('Sum Result:', sum_result)\n",
    "\n",
    "# Precision in Floating-Point Multiplication\n",
    "product_result = Decimal('3') * num1\n",
    "print('Product Result:', product_result)"
   ]
  },
  {
   "cell_type": "markdown",
   "metadata": {},
   "source": [
    "By using the `decimal` module, which supports user-settable precision, you can achieve more accurate decimal arithmetic. The `Decimal` class provides a higher level of precision compared to standard floating-point numbers."
   ]
  },
  {
   "cell_type": "markdown",
   "metadata": {},
   "source": [
    "### Rounding Numbers\n",
    "\n",
    "Rounding numbers is common in various applications. Python's built-in `round()` function simplifies this task. Here's how you can display a number rounded to two decimal places. "
   ]
  },
  {
   "cell_type": "code",
   "execution_count": 16,
   "metadata": {},
   "outputs": [
    {
     "name": "stdout",
     "output_type": "stream",
     "text": [
      "π Rounded: 3.14\n",
      "π Rounded to 5: 3.14159\n"
     ]
    }
   ],
   "source": [
    "PI = 3.141592653589793\n",
    "rounded_pi = round(PI, 2)\n",
    "print('π Rounded:', rounded_pi)\n",
    "print('π Rounded to 5:', round(PI, 5))"
   ]
  },
  {
   "cell_type": "markdown",
   "metadata": {},
   "source": [
    "The `round()` function is utilized to achieve the desired precision. "
   ]
  },
  {
   "cell_type": "markdown",
   "metadata": {},
   "source": [
    "### Integer and Fraction Part\n",
    "\n",
    "Display a number with both the integer and fractional parts. "
   ]
  },
  {
   "cell_type": "code",
   "execution_count": 17,
   "metadata": {},
   "outputs": [
    {
     "name": "stdout",
     "output_type": "stream",
     "text": [
      "Original Number: 123.456\n",
      "Integer Part: 123\n",
      "Fractional Part: 0.45600000000000307\n"
     ]
    }
   ],
   "source": [
    "float_number = 123.456\n",
    "integer_part = int(float_number)\n",
    "fractional_part = float_number - integer_part\n",
    "print('Original Number:', float_number)\n",
    "print('Integer Part:', integer_part)\n",
    "print('Fractional Part:', fractional_part)"
   ]
  },
  {
   "cell_type": "markdown",
   "metadata": {},
   "source": [
    "The above snippet showcases how to separate the integer and fractional parts of a floating-point number for further analysis or processing."
   ]
  },
  {
   "cell_type": "markdown",
   "metadata": {},
   "source": [
    "### Using Python as a Powerful Calculator\n",
    "\n",
    "Python is not only a versatile programming language but also a powerful calculator that can handle a wide range of mathematical operations. The `math` module in Python provides access to various mathematical functions. Let's explore some examples:"
   ]
  },
  {
   "cell_type": "code",
   "execution_count": 11,
   "metadata": {},
   "outputs": [
    {
     "name": "stdout",
     "output_type": "stream",
     "text": [
      "42\n",
      "12.0\n",
      "9\n",
      "2.0\n",
      "-0.7568024953079282\n",
      "0.5000000000000001\n",
      "0.9999999999999999\n",
      "2.302585092994046\n",
      "7.38905609893065\n",
      "4\n",
      "3\n",
      "12\n",
      "5.68\n",
      "7.0\n"
     ]
    }
   ],
   "source": [
    "import math  # Importing the math module\n",
    "# help(math)   # Display information about the math module\n",
    "\n",
    "print(39 + 1 + 2)  # Addition\n",
    "print(8 * 3 / 2)   # Multiplication and division\n",
    "print(3**2)        # Exponentiation\n",
    "\n",
    "print(math.sqrt(4))                # Square root\n",
    "print(math.sin(4))                 # Sine function\n",
    "print(math.cos(math.radians(60)))  # Cosine of 60 degrees\n",
    "print(math.tan(math.radians(45)))  # Tangent of 45 degrees\n",
    "print(math.log(10))                # Natural logarithm (base e)\n",
    "print(math.exp(2))                 # Exponential function (e^2)\n",
    "print(math.ceil(3.7))              # Ceil (round up to the nearest integer)\n",
    "print(math.floor(3.7))             # Floor (round down to the nearest integer)\n",
    "print(math.gcd(24, 36))            # Greatest common divisor\n",
    "\n",
    "print(round(5.678, 2))             # Round to 2 decimal places\n",
    "print(round(6.789, 0))             # Round to the nearest integer"
   ]
  },
  {
   "cell_type": "markdown",
   "metadata": {},
   "source": [
    "You can explore more functions and operations available in the `math` module [here](https://docs.python.org/3/library/math.html)"
   ]
  },
  {
   "cell_type": "markdown",
   "metadata": {},
   "source": [
    "### The Pythagorean Theorem\n",
    "\n",
    "The Pythagorean Theorem is applied to a right-angled triangle. The theorem states that the square of the length of the hypotenuse ($c$) is equal to the sum of the squares of the lengths of the other two adjacent sides ($a$ and $b$). Mathematically, this is represented as:\n",
    "$$c^2 = a^2 + b^2$$"
   ]
  },
  {
   "cell_type": "code",
   "execution_count": 4,
   "metadata": {},
   "outputs": [
    {
     "name": "stdout",
     "output_type": "stream",
     "text": [
      "The length of the hypotenuse is: 3.605551275463989\n"
     ]
    }
   ],
   "source": [
    "# Given sides of a right-angled triangle\n",
    "side_a = 2\n",
    "side_b = 3\n",
    "\n",
    "# Using the Pythagorean Theorem to calculate the hypotenuse (side_c^2 = side_a^2 + side_b^2)\n",
    "side_c = (side_a**2 + side_b**2) ** 0.5\n",
    "\n",
    "print(f'The length of the hypotenuse is: {side_c}')"
   ]
  },
  {
   "cell_type": "markdown",
   "metadata": {},
   "source": [
    "In the above example, `side_a` and `side_b` represent the lengths of the two legs of the right-angled triangle. `side_c` is calculated using the Pythagorean Theorem."
   ]
  },
  {
   "cell_type": "markdown",
   "metadata": {},
   "source": [
    "### Area of A Circle\n",
    "\n",
    "The area of a circle can be calculated using the formula: Area = $\\pi r^2$. Here's a simple program to demonstrate how you can calculate the area of a circle of a given radius in Python:"
   ]
  },
  {
   "cell_type": "code",
   "execution_count": 5,
   "metadata": {},
   "outputs": [
    {
     "name": "stdout",
     "output_type": "stream",
     "text": [
      "The area of the circle is: 78.53981633974483\n",
      "The circumference of the circle is: 31.41592653589793\n"
     ]
    }
   ],
   "source": [
    "import math\n",
    "\n",
    "radius_circle = float(input('Enter the radius of the circle: '))\n",
    "area_circle = math.pi * radius_circle ** 2\n",
    "print(f'The area of the circle is: {area_circle}')\n",
    "\n",
    "circumference_circle = 2 * math.pi * radius_circle\n",
    "print(f'The circumference of the circle is: {circumference_circle}')"
   ]
  },
  {
   "cell_type": "markdown",
   "metadata": {},
   "source": [
    "Prompting the user for input and performing calculations based on that input is a common scenario in programming. Additionally, the circumference of the circle is calculated using the formula: circumference = $2 \\pi r$."
   ]
  },
  {
   "cell_type": "markdown",
   "metadata": {},
   "source": [
    "### Volume of a Cylinder\n",
    "\n",
    "The total volume of the cylinder can be calculated using the formula: total_volume = $\\pi r^2 h$. Here's an example of a simple program that calculates th total volume of a cylinder based on user-entered radius and depth."
   ]
  },
  {
   "cell_type": "code",
   "execution_count": 6,
   "metadata": {},
   "outputs": [
    {
     "name": "stdout",
     "output_type": "stream",
     "text": [
      "The total volume of the cylinder is: 235.619\n",
      "The surface area of the cylinder is: 251.32741228718345\n"
     ]
    }
   ],
   "source": [
    "import math\n",
    "\n",
    "radius_cylinder = float(input('Enter the radius of the cylinder: '))\n",
    "depth_cylinder = float(input('Enter the depth of the cylinder: '))\n",
    "volume_cylinder = math.pi * radius_cylinder ** 2 * depth_cylinder\n",
    "rounded_volume_cylinder = round(volume_cylinder, 3)\n",
    "print(f'The total volume of the cylinder is: {rounded_volume_cylinder}')\n",
    "\n",
    "surface_area_cylinder = 2 * math.pi * radius_cylinder * (radius_cylinder + depth_cylinder)\n",
    "print(f'The surface area of the cylinder is: {surface_area_cylinder}')"
   ]
  },
  {
   "cell_type": "markdown",
   "metadata": {},
   "source": [
    "The program above prompts the user to input the radius and depth of a cylinder to calculate the total volume of the cylinder.\n",
    "\n",
    "The surface area of the cylinder is also calculated using the formula: surface area = $2 \\pi r (r + h)$."
   ]
  },
  {
   "cell_type": "markdown",
   "metadata": {},
   "source": [
    "### Total Bill + Tip\n",
    "\n",
    "Given the total bill and the number of diners, calculate and display the amount each person must pay."
   ]
  },
  {
   "cell_type": "code",
   "execution_count": 8,
   "metadata": {},
   "outputs": [
    {
     "name": "stdout",
     "output_type": "stream",
     "text": [
      "Each person must pay: 20.0\n",
      "Total Bill + Tip: 120.0\n",
      "Each person must pay (with tip): 24.0\n"
     ]
    }
   ],
   "source": [
    "total_bill = float(input('Enter the total price of the bill: '))\n",
    "number_of_diners = int(input('Enter the number of diners: '))\n",
    "tip_percentage = float(input('Enter the tip percentage: '))\n",
    "\n",
    "# Amount each person must pay\n",
    "amount_per_person = total_bill / number_of_diners\n",
    "print(f'Each person must pay: {amount_per_person}')\n",
    "\n",
    "# Each bill + tip\n",
    "total_bill_with_tip = total_bill * (1 + tip_percentage / 100)\n",
    "amount_per_person_with_tip = total_bill_with_tip / number_of_diners\n",
    "print(f'Total Bill + Tip: {total_bill_with_tip}')\n",
    "print(f'Each person must pay (with tip): {amount_per_person_with_tip}')"
   ]
  },
  {
   "cell_type": "markdown",
   "metadata": {},
   "source": [
    "The program above takes the total bill and the number of diners as input and calculates the amount each person must pay by dividing the total bill by the number of diners.\n",
    "\n",
    "Additionally, it includes an option for the user to input a tip percentage, and the updated amount per person is displayed accordingly."
   ]
  },
  {
   "cell_type": "markdown",
   "metadata": {},
   "source": [
    "### Convert Weight of Kilograms:\n",
    "\n",
    "Ask the user to enter a weight in kilograms and convert it to pounds."
   ]
  },
  {
   "cell_type": "code",
   "execution_count": 9,
   "metadata": {},
   "outputs": [
    {
     "name": "stdout",
     "output_type": "stream",
     "text": [
      "10.0 kilograms is equal to 22.0462 pounds\n",
      "10.0 kilograms is equal to 10000.0 grams\n"
     ]
    }
   ],
   "source": [
    "weight_kilograms = float(input('Enter a weight in kilograms: '))\n",
    "\n",
    "#  weight in pounds\n",
    "pounds_per_kilogram = 2.20462\n",
    "weight_pounds = weight_kilograms * pounds_per_kilogram\n",
    "print(f'{weight_kilograms} kilograms is equal to {weight_pounds} pounds')\n",
    "\n",
    "# kilograms to grams\n",
    "weight_grams = weight_kilograms * 1000\n",
    "print(f'{weight_kilograms} kilograms is equal to {weight_grams} grams')\n"
   ]
  },
  {
   "cell_type": "markdown",
   "metadata": {},
   "source": [
    "The program prompts the user to input a weight in kilograms then converts the entered weight to pounds using the conversion factor and displays the result. The program also converts the weight to grams."
   ]
  },
  {
   "cell_type": "markdown",
   "metadata": {},
   "source": [
    "### Convert Length to Centimeters\n",
    "\n",
    "Read the number of feet and inches from the user. Compute the equivalent number of centimeters."
   ]
  },
  {
   "cell_type": "code",
   "execution_count": 10,
   "metadata": {},
   "outputs": [
    {
     "name": "stdout",
     "output_type": "stream",
     "text": [
      "The equivalent in centimeters is: 317.5 cm\n"
     ]
    }
   ],
   "source": [
    "# Read the number of feet and inches from the user\n",
    "feet = int(input('Enter the number of feet: '))\n",
    "inches = int(input('Enter the number of inches: '))\n",
    "\n",
    "# Compute and display the equivalent number of centimeters\n",
    "centimeters_per_inch = 2.54\n",
    "total_centimeters = feet * 12 * centimeters_per_inch + inches * centimeters_per_inch\n",
    "print(f'The equivalent in centimeters is: {total_centimeters} cm')\n"
   ]
  },
  {
   "cell_type": "markdown",
   "metadata": {},
   "source": [
    "The program takes the number of feet and inches as input from the user then calculates the equivalent number of centimeters using the conversion factor and displays the result."
   ]
  },
  {
   "cell_type": "markdown",
   "metadata": {},
   "source": [
    "### Distance Between Two Points on Earth\n",
    "\n",
    "Create a program that allows the user to enter the latitude and longitude of two points. Compute and display the distance between the points on Earth's surface.\n",
    "\n",
    "The formula used to compute the distance between two points on the Earth's surface is based on the Haversine formula, which calculates the distance between two points on the surface of a sphere. Here's a breakdown of the formula and the variables used:\n",
    "\n",
    "**Formula:**\n",
    "$$ a = \\sin^2\\left(\\frac{\\Delta\\text{lat}}{2}\\right) + \\cos(\\text{lat}_1) \\cdot \\cos(\\text{lat}_2) \\cdot \\sin^2\\left(\\frac{\\Delta\\text{long}}{2}\\right) $$\n",
    "\n",
    "$$ c = 2 \\cdot \\text{atan2}\\left(\\sqrt{a}, \\sqrt{1 - a}\\right) $$\n",
    "\n",
    "$$ \\text{distance} = R \\cdot c $$\n",
    "\n",
    "where:\n",
    "- $ \\Delta\\text{lat} $ is the difference in latitude between the two points.\n",
    "- $ \\Delta\\text{long} $ is the difference in longitude between the two points.\n",
    "- $ \\text{lat}_1 $ and $ \\text{lat}_2 $ are the latitudes of the two points.\n",
    "- $ \\text{R} $ is the approximate radius of the Earth (in this case, $ 6371 $ kilometers).\n",
    "- $ \\text{a} $ is an intermediate result.\n",
    "- $ \\text{c} $ is the central angle.\n",
    "- $ \\text{distance} $ is the final distance between the two points on the Earth's surface."
   ]
  },
  {
   "cell_type": "code",
   "execution_count": 11,
   "metadata": {},
   "outputs": [
    {
     "name": "stdout",
     "output_type": "stream",
     "text": [
      "The distance between the points is: 199.83022873473683 km\n"
     ]
    }
   ],
   "source": [
    "latitude1 = float(input('Enter the latitude of the first point: '))\n",
    "longitude1 = float(input('Enter the longitude of the first point: '))\n",
    "latitude2 = float(input('Enter the latitude of the second point: '))\n",
    "longitude2 = float(input('Enter the longitude of the second point: '))\n",
    "\n",
    "# 38.8976 \n",
    "# -77.0366\n",
    "# 39.9496\n",
    "# -75.1503\n",
    "\n",
    "# The distance between the points in kilometers\n",
    "earth_radius_km = 6371  # approximate Earth radius in kilometers\n",
    "delta_latitude = math.radians(latitude2 - latitude1)\n",
    "delta_longitude = math.radians(longitude2 - longitude1)\n",
    "a = (math.sin(delta_latitude / 2) ** 2 +\n",
    "     math.cos(math.radians(latitude1)) * math.cos(math.radians(latitude2)) * \n",
    "     math.sin(delta_longitude / 2) ** 2)\n",
    "c = 2 * math.atan2(math.sqrt(a), math.sqrt(1 - a))\n",
    "distance_km = earth_radius_km * c\n",
    "print(f'The distance between the points is: {distance_km} km')"
   ]
  },
  {
   "cell_type": "markdown",
   "metadata": {},
   "source": [
    "The program prompts the user to input the latitude and longitude of two points then calculates the distance between the points on Earth's surface using the Haversine formula.\n",
    "\n",
    "**Variables Used:**\n",
    "- `latitude1`, `longitude1`: Latitude and longitude of the first point entered by the user.\n",
    "- `latitude2`, `longitude2`: Latitude and longitude of the second point entered by the user.\n",
    "- `earth_radius_km`: Approximate radius of the Earth in kilometers.\n",
    "- `delta_latitude`: Difference in latitude between the two points, converted to radians.\n",
    "- `delta_longitude`: Difference in longitude between the two points, converted to radians.\n",
    "- `a`: Intermediate result in the Haversine formula.\n",
    "- `c`: Central angle in the Haversine formula.\n",
    "- `distance_km`: Final distance between the two points on the Earth's surface in kilometers.\n",
    "\n",
    "1. `delta_latitude` and `delta_longitude` are calculated by finding the differences between the latitudes and longitudes of the two points and converting them to radians using `math.radians`.\n",
    "2. Using these differences, the Haversine formula calculates the intermediate result `a` and the central angle `c`.\n",
    "3. The final distance between the two points on the Earth's surface (`distance_km`) is obtained by multiplying the Earth's radius by the central angle `c`."
   ]
  },
  {
   "cell_type": "markdown",
   "metadata": {},
   "source": [
    "### Denominations of Coins\n",
    "\n",
    "Write a program that begins by reading a number of cents. Compute and display the denominations of coins for giving change."
   ]
  },
  {
   "cell_type": "code",
   "execution_count": 12,
   "metadata": {},
   "outputs": [
    {
     "name": "stdout",
     "output_type": "stream",
     "text": [
      "Change breakdown: 1 dollars, 2 quarters, 1 dimes, 1 nickels, 0 pennies\n"
     ]
    }
   ],
   "source": [
    "cents = int(input('Enter the number of cents: '))\n",
    "\n",
    "# Denominations of coins\n",
    "dollars = cents // 100\n",
    "quarters = (cents % 100) // 25\n",
    "dimes = ((cents % 100) % 25) // 10\n",
    "nickels = (((cents % 100) % 25) % 10) // 5\n",
    "pennies = (((cents % 100) % 25) % 10) % 5\n",
    "\n",
    "print(f'Change breakdown: {dollars} dollars, {quarters} quarters, {dimes} dimes, {nickels} nickels, {pennies} pennies')"
   ]
  },
  {
   "cell_type": "markdown",
   "metadata": {},
   "source": [
    "The program takes the number of cents as input and calculates the denominations of coins (dollars, quarters, dimes, nickels, and pennies) and displays the result.\n",
    "\n",
    "- `dollars`: Divide cents by 100 to get the number of dollars.\n",
    "- `quarters`: Use the remainder of cents divided by 100, then divide by 25 to get the number of quarters.\n",
    "- `dimes`: Use the remainder of cents divided by 100, then use the remainder of that result divided by 25, and finally divide by 10 to get the number of dimes.\n",
    "- `nickels` and `pennies`: Similar calculations for nickels and pennies."
   ]
  },
  {
   "cell_type": "markdown",
   "metadata": {},
   "source": [
    "### Total Number of Seconds\n",
    "\n",
    "Create a program that reads a duration in days, hours, minutes, and seconds. Compute and display the total number of seconds."
   ]
  },
  {
   "cell_type": "code",
   "execution_count": 13,
   "metadata": {},
   "outputs": [
    {
     "name": "stdout",
     "output_type": "stream",
     "text": [
      "The total number of seconds is: 90061 seconds\n"
     ]
    }
   ],
   "source": [
    "days = int(input('Enter the number of days: '))\n",
    "hours = int(input('Enter the number of hours: '))\n",
    "minutes = int(input('Enter the number of minutes: '))\n",
    "seconds = int(input('Enter the number of seconds: '))\n",
    "\n",
    "# Total number of seconds\n",
    "total_seconds = days * 24 * 60 * 60 + hours * 60 * 60 + minutes * 60 + seconds\n",
    "print(f'The total number of seconds is: {total_seconds} seconds')"
   ]
  },
  {
   "cell_type": "markdown",
   "metadata": {},
   "source": [
    "The program prompts the user to input the duration in days, hours, minutes, and seconds and calculates the total number of seconds and displays the result.\n",
    "\n",
    "- `total_seconds`: Convert each time unit to seconds (1 day = 24 hours, 1 hour = 60 minutes, 1 minute = 60 seconds) and sum them up."
   ]
  },
  {
   "cell_type": "markdown",
   "metadata": {},
   "source": [
    "### Total Time\n",
    "\n",
    "The conversion of total seconds back to days, hours, minutes, and seconds"
   ]
  },
  {
   "cell_type": "code",
   "execution_count": 15,
   "metadata": {},
   "outputs": [
    {
     "name": "stdout",
     "output_type": "stream",
     "text": [
      "The equivalent amount of time is: 1 days, 01:01:01\n"
     ]
    }
   ],
   "source": [
    "total_seconds = int(input('Enter the total number of seconds: '))\n",
    "\n",
    "# Calculate days, hours, minutes, and seconds\n",
    "days = total_seconds // (24 * 3600)\n",
    "remaining_seconds = total_seconds % (24 * 3600)\n",
    "hours = remaining_seconds // 3600\n",
    "remaining_seconds %= 3600\n",
    "minutes = remaining_seconds // 60\n",
    "seconds = remaining_seconds % 60\n",
    "\n",
    "print(f'The equivalent amount of time is: {days} days, {hours:02}:{minutes:02}:{seconds:02}')"
   ]
  },
  {
   "cell_type": "markdown",
   "metadata": {},
   "source": [
    "- `days`: Divide `total_seconds` by the total number of seconds in a day (24 hours * 3600 seconds).\n",
    "- `remaining_seconds`: Calculate the remaining seconds after extracting days.\n",
    "- `hours`: Divide `remaining_seconds` by the total number of seconds in an hour (3600 seconds).\n",
    "- `remaining_seconds`: Calculate the remaining seconds after extracting hours.\n",
    "- `minutes`: Divide `remaining_seconds` by the total number of seconds in a minute (60 seconds).\n",
    "- `seconds`: Calculate the remaining seconds."
   ]
  }
 ],
 "metadata": {
  "kernelspec": {
   "display_name": ".venv",
   "language": "python",
   "name": "python3"
  },
  "language_info": {
   "codemirror_mode": {
    "name": "ipython",
    "version": 3
   },
   "file_extension": ".py",
   "mimetype": "text/x-python",
   "name": "python",
   "nbconvert_exporter": "python",
   "pygments_lexer": "ipython3",
   "version": "3.11.7"
  }
 },
 "nbformat": 4,
 "nbformat_minor": 2
}
