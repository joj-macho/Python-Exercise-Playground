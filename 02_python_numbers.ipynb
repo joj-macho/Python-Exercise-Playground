{
 "cells": [
  {
   "cell_type": "markdown",
   "metadata": {},
   "source": [
    "# Python Numeric Data Types\n",
    "\n",
    "Welcome to the 'Python Numeric Data Types' exercise notebook! This notebook explores fundamental concepts related to numeric data types in Python. Items to be covered include; precedence of arithmetic operations, integers, bitwise operators, integer-specific methods, floating-point numbers, float precision challenges, rounding numbers, decimal and fraction numeric types, complex numbers, complex-specific functions and methods, type casting, and working with long numbers. "
   ]
  },
  {
   "cell_type": "markdown",
   "metadata": {},
   "source": [
    "Python supports various arithmetic operations on numeric data types, including integers, floating-point numbers, and complex numbers."
   ]
  },
  {
   "cell_type": "code",
   "execution_count": 2,
   "metadata": {},
   "outputs": [
    {
     "name": "stdout",
     "output_type": "stream",
     "text": [
      "Addition Result: 13.5\n",
      "Subtraction Result: -6.5\n",
      "Multiplication Result: (20+50j)\n",
      "Division Result: 2.857142857142857\n",
      "Exponentiation Result: 100\n",
      "Modulo Result: 3.0\n"
     ]
    }
   ],
   "source": [
    "num1 = 10\n",
    "num2 = 3.5\n",
    "num3 = complex(2, 5)\n",
    "\n",
    "sum_result = num1 + num2\n",
    "print('Addition Result:', sum_result)\n",
    "\n",
    "diff_result = num2 - num1\n",
    "print('Subtraction Result:', diff_result)\n",
    "\n",
    "product_result = num1 * num3\n",
    "print('Multiplication Result:', product_result)\n",
    "\n",
    "division_result = num1 / num2\n",
    "print('Division Result:', division_result)\n",
    "\n",
    "exponent_result = num1 ** 2\n",
    "print('Exponentiation Result:', exponent_result)\n",
    "\n",
    "modulo_result = num1 % num2\n",
    "print('Modulo Result:', modulo_result)"
   ]
  },
  {
   "cell_type": "markdown",
   "metadata": {},
   "source": [
    "The example above demonstrates common arithmetic operations in Python, including addition, subtraction, multiplication, division, exponentiation, and modulo (remainder)."
   ]
  },
  {
   "cell_type": "markdown",
   "metadata": {},
   "source": [
    "### Precedence of Arithmetic Operations\n",
    "\n",
    "When multiple arithmetic operations are present in an expression, Python follows a specific order of precedence. Understanding this order ensures that calculations are performed correctly. The acronym PEMDAS can help remember the order: Parentheses, Exponents, Multiplication and Division, Addition and Subtraction."
   ]
  },
  {
   "cell_type": "code",
   "execution_count": 3,
   "metadata": {},
   "outputs": [
    {
     "name": "stdout",
     "output_type": "stream",
     "text": [
      "25.0\n"
     ]
    }
   ],
   "source": [
    "result = 2 + 3 * 4 ** 2 / 2 - 1\n",
    "print(result)"
   ]
  },
  {
   "cell_type": "markdown",
   "metadata": {},
   "source": [
    "The example above illustrates the application of precedence rules. The expression `2 + 3 * 4 ** 2 / 2 - 1` is evaluated according to the order of operations, resulting in the correct answer.\n",
    "\n",
    "- **Exponents:** `4 ** 2` is evaluated first, resulting in `16`.\n",
    "- **Multiplication and Division:** `3 * 16 / 2` is evaluated from left to right, resulting in `24.0`.\n",
    "- **Addition and Subtraction:** `2 + 24.0 - 1` is evaluated from left to right, resulting in `25.0`.\n",
    "\n",
    "Therefore, the final result of the expression is `25.0`."
   ]
  },
  {
   "cell_type": "markdown",
   "metadata": {},
   "source": [
    "### Integers\n",
    "\n",
    "Integers are whole numbers without decimal points. You can add (+), subtract (-), multiply (*), and divide (/) integers as demonstrated above. Here are examples that illustrate the usage of integer-specific functions. Integers are suitable for scenarios involving discrete values and whole numbers without decimal points."
   ]
  },
  {
   "cell_type": "code",
   "execution_count": 5,
   "metadata": {},
   "outputs": [
    {
     "name": "stdout",
     "output_type": "stream",
     "text": [
      "Bit Length: 6\n",
      "To Bytes: b'\\x00*'\n",
      "From Bytes: 42\n"
     ]
    }
   ],
   "source": [
    "num = 42\n",
    "\n",
    "bit_length = num.bit_length()\n",
    "to_bytes = num.to_bytes(2, byteorder='big')\n",
    "from_bytes = int.from_bytes(to_bytes, byteorder='big')\n",
    "\n",
    "print('Bit Length:', bit_length)\n",
    "print('To Bytes:', to_bytes)\n",
    "print('From Bytes:', from_bytes)"
   ]
  },
  {
   "cell_type": "markdown",
   "metadata": {},
   "source": [
    "Run the code cell, and you'll see the results of integer-specific methods. This exercise explores methods like `bit_length()`, `to_bytes()`, and `from_bytes()`."
   ]
  },
  {
   "cell_type": "markdown",
   "metadata": {},
   "source": [
    "### Floating-Point Numbers and Precision\n",
    "\n",
    "In Python, any number with a decimal point is considered a float. Floating-point numbers represent real numbers in computer memory using finite digital precision. However, this finite representation can lead to unexpected results and small discrepancies in calculations.\n",
    "\n",
    "Let's explore the examples demonstrating the challenges with precision in floating-point numbers:"
   ]
  },
  {
   "cell_type": "code",
   "execution_count": 10,
   "metadata": {},
   "outputs": [
    {
     "name": "stdout",
     "output_type": "stream",
     "text": [
      "Sum Result: 0.30000000000000004\n",
      "Product Result: 0.30000000000000004\n"
     ]
    }
   ],
   "source": [
    "num1 = 0.1\n",
    "num2 = 0.2\n",
    "\n",
    "# Precision in Floating-Point Addition\n",
    "sum_result = num1 + num2\n",
    "print('Sum Result:', sum_result)\n",
    "\n",
    "# Precision in Floating-Point Multiplication\n",
    "product_result = 3 * num1\n",
    "print('Product Result:', product_result)"
   ]
  },
  {
   "cell_type": "markdown",
   "metadata": {},
   "source": [
    "When you run the code cell above, you'll observe the results of floating-point operations and precision challenges:\n",
    "\n",
    "- The `sum_result` demonstrates the precision issue in floating-point addition. While adding 0.2 and 0.1 should ideally result in 0.3, due to the finite precision of floating-point representation, the actual result includes a small rounding error.\n",
    "- The `product_result` illustrates the precision issue in floating-point multiplication. Multiplying 3 and 0.1 should yield 0.3, but once again, the limited precision leads to a slightly different result.\n",
    "\n",
    "Floating-point numbers have inherent limitations in precision, and arithmetic operations may result in rounding errors. To overcome this issue, Python provides the `decimal` module, which allows for more precise decimal arithmetic. Let's explore an alternative using the `decimal` module:"
   ]
  },
  {
   "cell_type": "code",
   "execution_count": 12,
   "metadata": {},
   "outputs": [
    {
     "name": "stdout",
     "output_type": "stream",
     "text": [
      "Sum Result: 0.3\n",
      "Product Result: 0.3\n"
     ]
    }
   ],
   "source": [
    "from decimal import Decimal\n",
    "\n",
    "num1 = Decimal('0.1')\n",
    "num2 = Decimal('0.2')\n",
    "\n",
    "# Precision in Floating-Point Addition\n",
    "sum_result = num1 + num2\n",
    "print('Sum Result:', sum_result)\n",
    "\n",
    "# Precision in Floating-Point Multiplication\n",
    "product_result = Decimal('3') * num1\n",
    "print('Product Result:', product_result)"
   ]
  },
  {
   "cell_type": "markdown",
   "metadata": {},
   "source": [
    "By using the `decimal` module, which supports user-settable precision, you can achieve more accurate decimal arithmetic. The `Decimal` class provides a higher level of precision compared to standard floating-point numbers."
   ]
  },
  {
   "cell_type": "markdown",
   "metadata": {},
   "source": [
    "### Rounding Numbers\n",
    "\n",
    "Rounding numbers is common in various applications. Python's built-in `round()` function simplifies this task. Here's how you can display a number rounded to two decimal places. "
   ]
  },
  {
   "cell_type": "code",
   "execution_count": 16,
   "metadata": {},
   "outputs": [
    {
     "name": "stdout",
     "output_type": "stream",
     "text": [
      "π Rounded: 3.14\n",
      "π Rounded to 5: 3.14159\n"
     ]
    }
   ],
   "source": [
    "PI = 3.141592653589793\n",
    "rounded_pi = round(PI, 2)\n",
    "print('π Rounded:', rounded_pi)\n",
    "print('π Rounded to 5:', round(PI, 5))"
   ]
  },
  {
   "cell_type": "markdown",
   "metadata": {},
   "source": [
    "### Integer and Fraction Part\n",
    "\n",
    "Display a number with both the integer and fractional parts. "
   ]
  },
  {
   "cell_type": "code",
   "execution_count": 17,
   "metadata": {},
   "outputs": [
    {
     "name": "stdout",
     "output_type": "stream",
     "text": [
      "Original Number: 123.456\n",
      "Integer Part: 123\n",
      "Fractional Part: 0.45600000000000307\n"
     ]
    }
   ],
   "source": [
    "float_number = 123.456\n",
    "integer_part = int(float_number)\n",
    "fractional_part = float_number - integer_part\n",
    "print('Original Number:', float_number)\n",
    "print('Integer Part:', integer_part)\n",
    "print('Fractional Part:', fractional_part)"
   ]
  },
  {
   "cell_type": "markdown",
   "metadata": {},
   "source": []
  },
  {
   "cell_type": "markdown",
   "metadata": {},
   "source": [
    "### Area of A Circle\n",
    "\n",
    "**Problem**: Calculate the area of a circle based on user-entered radius. "
   ]
  },
  {
   "cell_type": "code",
   "execution_count": 7,
   "metadata": {},
   "outputs": [
    {
     "name": "stdout",
     "output_type": "stream",
     "text": [
      "The area of the circle is: 78.53981633974483\n"
     ]
    }
   ],
   "source": [
    "import math\n",
    "\n",
    "# Ask the user to enter the radius of a circle\n",
    "radius_circle = float(input(\"Enter the radius of the circle: \"))\n",
    "area_circle = math.pi * radius_circle ** 2\n",
    "print(f\"The area of the circle is: {area_circle}\")"
   ]
  },
  {
   "cell_type": "markdown",
   "metadata": {},
   "source": [
    "Prompting the user for input and performing calculations based on that input is a common scenario in programming.\n",
    "\n",
    "**Exercises**:\n",
    "\n",
    "1. Modify the program to also calculate and display the circumference of the circle.\n",
    "2. Implement error handling to ensure the user enters a positive radius."
   ]
  },
  {
   "cell_type": "markdown",
   "metadata": {},
   "source": [
    "### Volume of a Cylinder\n",
    "\n",
    "**Problem**: Calculate the total volume of a cylinder based on user-entered radius and depth "
   ]
  },
  {
   "cell_type": "code",
   "execution_count": null,
   "metadata": {},
   "outputs": [],
   "source": [
    "import math\n",
    "\n",
    "# Ask the user to enter the radius and depth of a cylinder\n",
    "radius_cylinder = float(input(\"Enter the radius of the cylinder: \"))\n",
    "depth_cylinder = float(input(\"Enter the depth of the cylinder: \"))\n",
    "volume_cylinder = math.pi * radius_cylinder ** 2 * depth_cylinder\n",
    "rounded_volume_cylinder = round(volume_cylinder, 3)\n",
    "print(f\"The total volume of the cylinder is: {rounded_volume_cylinder}\")"
   ]
  },
  {
   "cell_type": "markdown",
   "metadata": {},
   "source": [
    "Understanding the formula for calculating the volume of a cylinder and using user input to perform calculations.\n",
    "\n",
    "**Exercises**:\n",
    "\n",
    "1. Modify the program to validate that the entered values are positive.\n",
    "2. Calculate and display the surface area of the cylinder."
   ]
  },
  {
   "cell_type": "markdown",
   "metadata": {},
   "source": [
    "### Whole Number Division\n",
    "\n",
    "**Problem**: Use whole number division to divide the first number by the second and display the answer along with the remainder. "
   ]
  },
  {
   "cell_type": "code",
   "execution_count": null,
   "metadata": {},
   "outputs": [],
   "source": [
    "# Ask the user to enter two numbers\n",
    "numerator = int(input(\"Enter the numerator: \"))\n",
    "denominator = int(input(\"Enter the denominator: \"))\n",
    "\n",
    "# Perform whole number division and display the result\n",
    "quotient = numerator // denominator\n",
    "remainder = numerator % denominator\n",
    "print(f\"{numerator} divided by {denominator} is {quotient} with {remainder} remaining\")"
   ]
  },
  {
   "cell_type": "markdown",
   "metadata": {},
   "source": [
    "Understanding whole number division and obtaining both the quotient and remainder.\n",
    "\n",
    "**Exercises**:\n",
    "\n",
    "1. Implement error handling to ensure the denominator is not zero.\n",
    "2. Experiment with other division-related operators."
   ]
  },
  {
   "cell_type": "markdown",
   "metadata": {},
   "source": [
    "### Display the Following Message\n",
    "\n",
    "**Problem**: Display a message based on user input for selecting a geometric shape. "
   ]
  },
  {
   "cell_type": "code",
   "execution_count": 8,
   "metadata": {},
   "outputs": [
    {
     "name": "stdout",
     "output_type": "stream",
     "text": [
      "The area of the square is: 9.0\n"
     ]
    }
   ],
   "source": [
    "# Display message based on user input\n",
    "selected_option = int(input(\"1. Square\\n2. Triangle\\n\\nEnter a number: \"))\n",
    "\n",
    "if selected_option == 1:\n",
    "    side_length = float(input(\"Enter the length of one side: \"))\n",
    "    area_square = side_length ** 2\n",
    "    print(f\"The area of the square is: {area_square}\")\n",
    "elif selected_option == 2:\n",
    "    base_length = float(input(\"Enter the base length of the triangle: \"))\n",
    "    height_triangle = float(input(\"Enter the height of the triangle: \"))\n",
    "    area_triangle = 0.5 * base_length * height_triangle\n",
    "    print(f\"The area of the triangle is: {area_triangle}\")\n",
    "else:\n",
    "    print(\"Invalid option. Please select 1 or 2.\")"
   ]
  },
  {
   "cell_type": "markdown",
   "metadata": {},
   "source": [
    "Using conditional statements to control program flow based on user input.\n",
    "\n",
    "**Exercises**:\n",
    "\n",
    "1. Add more geometric shapes and corresponding calculations.\n",
    "2. Explore error handling for invalid user input."
   ]
  },
  {
   "cell_type": "markdown",
   "metadata": {},
   "source": [
    "### Read a Four-Digit Integer from the User\n",
    "\n",
    "**Problem**: Calculate and display the sum of the digits in a four-digit integer. "
   ]
  },
  {
   "cell_type": "code",
   "execution_count": null,
   "metadata": {},
   "outputs": [],
   "source": [
    "# Read a four-digit integer from the user\n",
    "four_digit_number = int(input(\"Enter a four-digit integer: \"))\n",
    "\n",
    "# Calculate and display the sum of the digits\n",
    "digit_sum = sum(int(digit) for digit in str(abs(four_digit_number)))\n",
    "print(f\"Sum of digits in {four_digit_number}: {digit_sum}\")"
   ]
  },
  {
   "cell_type": "markdown",
   "metadata": {},
   "source": [
    "Breaking down a multi-digit number into its individual digits and performing calculations.\n",
    "\n",
    "**Exercises**:\n",
    "\n",
    "1. Modify the program to handle negative numbers.\n",
    "2. Calculate the product of the digits."
   ]
  },
  {
   "cell_type": "markdown",
   "metadata": {},
   "source": [
    "### Prompt the User to Enter Two or Three Numbers\n",
    "\n",
    "**Problem**: Perform mathematical operations on user-entered numbers and display the results. "
   ]
  },
  {
   "cell_type": "code",
   "execution_count": null,
   "metadata": {},
   "outputs": [],
   "source": [
    "# Prompt the user to enter two or three numbers\n",
    "number1 = float(input(\"Enter the first number: \"))\n",
    "number2 = float(input(\"Enter the second number: \"))\n",
    "number3 = float(input(\"Enter the third number (optional): \"))\n",
    "\n",
    "# Perform mathematical operations and display results\n",
    "result_sum = number1 + number2 + number3\n",
    "result_product = number1 * number2 * number3 if number3 else None\n",
    "print(f\"Sum of numbers: {result_sum}\")\n",
    "print(f\"Product of numbers (if entered): {result_product}\")"
   ]
  },
  {
   "cell_type": "markdown",
   "metadata": {},
   "source": [
    "Using user input to perform calculations and display the results.\n",
    "\n",
    "**Exercises**:\n",
    "\n",
    "1. Add more mathematical operations like subtraction and division.\n",
    "2. Implement error handling for invalid input."
   ]
  },
  {
   "cell_type": "markdown",
   "metadata": {},
   "source": [
    "### Ask for the User's Name and Age\n",
    "\n",
    "**Problem**: Increment the user's age by 1 and display a birthday message. "
   ]
  },
  {
   "cell_type": "code",
   "execution_count": null,
   "metadata": {},
   "outputs": [],
   "source": [
    "# Ask for the user's name and age\n",
    "user_name_birthday = input(\"Enter your name: \")\n",
    "user_age_birthday = int(input(\"Enter your age: \"))\n",
    "\n",
    "# Increment age and display a birthday message\n",
    "new_age_birthday = user_age_birthday + 1\n",
    "print(f\"{user_name_birthday}, next birthday you will be {new_age_birthday}\")"
   ]
  },
  {
   "cell_type": "markdown",
   "metadata": {},
   "source": [
    "Using user input to perform calculations and personalize output messages.\n",
    "\n",
    "**Exercises**:\n",
    "\n",
    "1. Modify the program to ask for the user's birthdate and display the number of days until their next birthday.\n",
    "2. Personalize the birthday message further."
   ]
  },
  {
   "cell_type": "markdown",
   "metadata": {},
   "source": [
    "### Take the Total Price of a Bill and the Number of Diners\n",
    "\n",
    "**Problem**: Calculate and display the amount each person must pay based on the total bill and the number of diners. "
   ]
  },
  {
   "cell_type": "code",
   "execution_count": null,
   "metadata": {},
   "outputs": [],
   "source": [
    "# Take the total price of a bill and the number of diners\n",
    "total_bill = float(input(\"Enter the total price of the bill: \"))\n",
    "number_of_diners = int(input(\"Enter the number of diners: \"))\n",
    "\n",
    "# Calculate and display the amount each person must pay\n",
    "amount_per_person = total_bill / number_of_diners\n",
    "print(f\"Each person must pay: {amount_per_person}\")"
   ]
  },
  {
   "cell_type": "markdown",
   "metadata": {},
   "source": [
    "Dividing a total amount equally among a group of people and displaying the result.\n",
    "\n",
    "**Exercises**:\n",
    "\n",
    "1. Modify the program to include a tip percentage.\n",
    "2. Implement error handling to ensure the number of diners is a positive integer."
   ]
  },
  {
   "cell_type": "markdown",
   "metadata": {},
   "source": [
    "### Ask the User to Enter a Weight in Kilograms:\n",
    "\n",
    "**Problem**: Convert the entered weight in kilograms to pounds. "
   ]
  },
  {
   "cell_type": "code",
   "execution_count": null,
   "metadata": {},
   "outputs": [],
   "source": [
    "# Ask the user to enter a weight in kilograms\n",
    "weight_kilograms = float(input(\"Enter a weight in kilograms: \"))\n",
    "\n",
    "# Convert and display the weight in pounds\n",
    "pounds_per_kilogram = 2.20462\n",
    "weight_pounds = weight_kilograms * pounds_per_kilogram\n",
    "print(f\"{weight_kilograms} kilograms is equal to {weight_pounds} pounds\")"
   ]
  },
  {
   "cell_type": "markdown",
   "metadata": {},
   "source": [
    "\n",
    "\n",
    "**Exercises**:\n",
    "\n",
    "1. Explore other unit conversions, such as kilograms to grams.\n",
    "2. Allow the user to choose the conversion direction (e.g., kilograms to pounds or pounds to kilograms)."
   ]
  },
  {
   "cell_type": "markdown",
   "metadata": {},
   "source": [
    "### Task the User to Enter a Number Over 100 and Another Under 10\n",
    "\n",
    "**Problem**: Display how many times the smaller number goes into the larger number. "
   ]
  },
  {
   "cell_type": "code",
   "execution_count": null,
   "metadata": {},
   "outputs": [],
   "source": [
    "# Task the user to enter a number over 100 and another under 10\n",
    "larger_number = int(input(\"Enter a number over 100: \"))\n",
    "smaller_number = int(input(\"Enter a number under 10: \"))\n",
    "\n",
    "# Calculate and display how many times the smaller number goes into the larger number\n",
    "times_into = larger_number // smaller_number\n",
    "remainder = larger_number % smaller_number\n",
    "print(f\"The smaller number goes into the larger number {times_into} times with {remainder} remaining\")"
   ]
  },
  {
   "cell_type": "markdown",
   "metadata": {},
   "source": [
    "Understanding division and displaying the result in a user-friendly format.\n",
    "\n",
    "**Exercises**:\n",
    "\n",
    "1. Implement error handling to ensure the entered numbers meet the specified conditions.\n",
    "2. Allow the user to enter decimal numbers."
   ]
  },
  {
   "cell_type": "markdown",
   "metadata": {},
   "source": [
    "### Read the Number of Feet and Inches from the User\n",
    "\n",
    "**Problem**: Compute and display the equivalent number of centimeters. "
   ]
  },
  {
   "cell_type": "code",
   "execution_count": null,
   "metadata": {},
   "outputs": [],
   "source": [
    "# Read the number of feet and inches from the user\n",
    "feet = int(input(\"Enter the number of feet: \"))\n",
    "inches = int(input(\"Enter the number of inches: \"))\n",
    "\n",
    "# Compute and display the equivalent number of centimeters\n",
    "centimeters_per_inch = 2.54\n",
    "total_centimeters = feet * 12 * centimeters_per_inch + inches * centimeters_per_inch\n",
    "print(f\"The equivalent in centimeters is: {total_centimeters} cm\")"
   ]
  },
  {
   "cell_type": "markdown",
   "metadata": {},
   "source": [
    "Understanding unit conversion and performing calculations based on user input.\n",
    "\n",
    "**Exercises**:\n",
    "\n",
    "1. Modify the program to handle fractional inches.\n",
    "2. Allow the user to choose the direction of conversion (e.g., feet and inches to centimeters or centimeters to feet and inches)."
   ]
  },
  {
   "cell_type": "markdown",
   "metadata": {},
   "source": [
    "### Write a Program That Reads the Number of Containers\n",
    "\n",
    "**Problem**: Compute and display the refund for returning containers. "
   ]
  },
  {
   "cell_type": "code",
   "execution_count": null,
   "metadata": {},
   "outputs": [],
   "source": [
    "number_of_containers = int(input(\"Enter the number of containers: \"))"
   ]
  },
  {
   "cell_type": "markdown",
   "metadata": {},
   "source": [
    "Understanding the relationship between the number of containers and the refund amount.\n",
    "\n",
    "**Exercises**:\n",
    "\n",
    "1. Modify the program to handle different refund rates for different types of containers.\n",
    "2. Implement error handling to ensure the entered number of containers is a positive integer."
   ]
  },
  {
   "cell_type": "markdown",
   "metadata": {},
   "source": [
    "### Pretend That You Have Just Opened a New Savings Account\n",
    "\n",
    "**Problem**: Compute and display the account balance after a certain number of years with interest. "
   ]
  },
  {
   "cell_type": "code",
   "execution_count": null,
   "metadata": {},
   "outputs": [],
   "source": [
    "# Pretend that you have just opened a new savings account\n",
    "principal_amount = float(input(\"Enter the initial amount deposited into the account: \"))\n",
    "interest_rate = 0.04  # 4 percent interest per year\n",
    "years = [1, 2, 3]\n",
    "\n",
    "# Compute and display the account balance after 1, 2, and 3 years\n",
    "for year in years:\n",
    "    account_balance = principal_amount * (1 + interest_rate) ** year\n",
    "    formatted_balance = \"${:.2f}\".format(account_balance)\n",
    "    print(f\"Year {year}: {formatted_balance}\")"
   ]
  },
  {
   "cell_type": "markdown",
   "metadata": {},
   "source": [
    "Understanding compound interest and performing calculations based on a fixed interest rate.\n",
    "\n",
    "**Exercises**:\n",
    "\n",
    "1. Modify the program to handle user-specified interest rates.\n",
    "2. Allow the user to choose the number of years."
   ]
  },
  {
   "cell_type": "markdown",
   "metadata": {},
   "source": [
    "### Create a Program That Allows the User to Enter the Latitude and Longitude\n",
    "\n",
    "**Problem**: Compute and display the distance between two points on the Earth's surface. "
   ]
  },
  {
   "cell_type": "code",
   "execution_count": null,
   "metadata": {},
   "outputs": [],
   "source": [
    "# Create a program that allows the user to enter the latitude and longitude\n",
    "latitude1 = float(input(\"Enter the latitude of the first point: \"))\n",
    "longitude1 = float(input(\"Enter the longitude of the first point: \"))\n",
    "latitude2 = float(input(\"Enter the latitude of the second point: \"))\n",
    "longitude2 = float(input(\"Enter the longitude of the second point: \"))\n",
    "\n",
    "# Compute and display the distance between the points in kilometers\n",
    "earth_radius_km = 6371  # approximate Earth radius in kilometers\n",
    "delta_latitude = math.radians(latitude2 - latitude1)\n",
    "delta_longitude = math.radians(longitude2 - longitude1)\n",
    "a = (math.sin(delta_latitude / 2) ** 2 +\n",
    "     math.cos(math.radians(latitude1)) * math.cos(math.radians(latitude2)) * \n",
    "     math.sin(delta_longitude / 2) ** 2)\n",
    "c = 2 * math.atan2(math.sqrt(a), math.sqrt(1 - a))\n",
    "distance_km = earth_radius_km * c\n",
    "print(f\"The distance between the\n",
    "\n",
    " points is: {distance_km} km\")"
   ]
  },
  {
   "cell_type": "markdown",
   "metadata": {},
   "source": [
    "Understanding the formula for calculating the distance between two points on the Earth using their latitude and longitude.\n",
    "\n",
    "**Exercises**:\n",
    "\n",
    "1. Modify the program to handle negative latitudes and longitudes.\n",
    "2. Implement error handling for invalid latitude and longitude inputs."
   ]
  },
  {
   "cell_type": "markdown",
   "metadata": {},
   "source": [
    "### Write a Program That Begins by Reading a Number of Cents\n",
    "\n",
    "**Problem**: Compute and display the denominations of coins for giving change. "
   ]
  },
  {
   "cell_type": "code",
   "execution_count": null,
   "metadata": {},
   "outputs": [],
   "source": [
    "cents = int(input(\"Enter the number of cents: \"))\n",
    "\n",
    "# Compute and display the denominations of coins\n",
    "dollars = cents // 100\n",
    "quarters = (cents % 100) // 25\n",
    "dimes = ((cents % 100) % 25) // 10\n",
    "nickels = (((cents % 100) % 25) % 10) // 5\n",
    "pennies = (((cents % 100) % 25) % 10) % 5\n",
    "\n",
    "print(f\"Change breakdown: {dollars} dollars, {quarters} quarters, {dimes} dimes, {nickels} nickels, {pennies} pennies\")"
   ]
  },
  {
   "cell_type": "markdown",
   "metadata": {},
   "source": [
    "Understanding how to convert a monetary amount into the fewest number of coins.\n",
    "\n",
    "**Exercises**:\n",
    "\n",
    "1. Modify the program to handle different coin systems (e.g., euros, yen).\n",
    "2. Allow the user to enter any amount in dollars and cents."
   ]
  },
  {
   "cell_type": "markdown",
   "metadata": {},
   "source": [
    "### Write a Program That Begins by Reading a Radius\n",
    "\n",
    "**Problem**: Compute and display the area of a circle and the volume of a sphere with the entered radius.\n",
    " "
   ]
  },
  {
   "cell_type": "code",
   "execution_count": null,
   "metadata": {},
   "outputs": [],
   "source": [
    "radius_circle_sphere = float(input(\"Enter the radius: \"))\n",
    "\n",
    "# Compute and display the area of a circle\n",
    "area_circle = math.pi * radius_circle_sphere ** 2\n",
    "print(f\"The area of the circle is: {area_circle}\")\n",
    "\n",
    "# Compute and display the volume of a sphere\n",
    "volume_sphere = (4 / 3) * math.pi * radius_circle_sphere ** 3\n",
    "formatted_volume = \"{:.2f}\".format(volume_sphere)\n",
    "print(f\"The volume of the sphere is: {formatted_volume}\")"
   ]
  },
  {
   "cell_type": "markdown",
   "metadata": {},
   "source": [
    "Understanding the formulas for calculating the area of a circle and the volume of a sphere.\n",
    "\n",
    "**Exercises**:\n",
    "\n",
    "1. Modify the program to handle negative radii.\n",
    "2. Allow the user to choose between calculating the area of a circle or the volume of a sphere."
   ]
  },
  {
   "cell_type": "markdown",
   "metadata": {},
   "source": [
    "### Create a Program That Reads a Duration\n",
    "\n",
    "**Problem**: Compute and display the total number of seconds represented by the entered duration. "
   ]
  },
  {
   "cell_type": "code",
   "execution_count": null,
   "metadata": {},
   "outputs": [],
   "source": [
    "days = int(input(\"Enter the number of days: \"))\n",
    "hours = int(input(\"Enter the number of hours: \"))\n",
    "minutes = int(input(\"Enter the number of minutes: \"))\n",
    "seconds = int(input(\"Enter the number of seconds: \"))\n",
    "\n",
    "# Compute and display the total number of seconds\n",
    "total_seconds = days * 24 * 60 * 60 + hours * 60 * 60 + minutes * 60 + seconds\n",
    "print(f\"The total number of seconds is: {total_seconds} seconds\")"
   ]
  },
  {
   "cell_type": "markdown",
   "metadata": {},
   "source": [
    "Understanding the conversion between days, hours, minutes, and seconds.\n",
    "\n",
    "**Exercises**:\n",
    "\n",
    "1. Modify the program to handle negative durations.\n",
    "2. Allow the user to choose the direction of conversion (e.g., seconds to days, hours, minutes)."
   ]
  },
  {
   "cell_type": "markdown",
   "metadata": {},
   "source": [
    "### Reverse the Process\n",
    "\n",
    "**Problem**: Compute and display the equivalent amount of time in the form D:HH:MM:SS. "
   ]
  },
  {
   "cell_type": "code",
   "execution_count": null,
   "metadata": {},
   "outputs": [],
   "source": [
    "seconds_input = int(input(\"Enter the number of seconds: \"))\n",
    "\n",
    "# Compute and display the equivalent amount of time in D:HH:MM:SS\n",
    "days_output = seconds_input //"
   ]
  },
  {
   "cell_type": "markdown",
   "metadata": {},
   "source": [
    "Understanding the reverse conversion from seconds to days, hours, minutes, and seconds.\n",
    "\n",
    "**Exercises**:\n",
    "\n"
   ]
  },
  {
   "cell_type": "markdown",
   "metadata": {},
   "source": [
    "### Checking\n",
    "\n",
    "**Problem**: Write "
   ]
  },
  {
   "cell_type": "code",
   "execution_count": null,
   "metadata": {},
   "outputs": [],
   "source": []
  },
  {
   "cell_type": "markdown",
   "metadata": {},
   "source": [
    "Checking\n",
    "\n",
    "**Exercises**:\n",
    "\n"
   ]
  },
  {
   "cell_type": "markdown",
   "metadata": {},
   "source": [
    "### Checking\n",
    "\n",
    "**Problem**: Write "
   ]
  },
  {
   "cell_type": "code",
   "execution_count": null,
   "metadata": {},
   "outputs": [],
   "source": []
  },
  {
   "cell_type": "markdown",
   "metadata": {},
   "source": [
    "Checking\n",
    "\n",
    "**Exercises**:\n",
    "\n"
   ]
  },
  {
   "cell_type": "markdown",
   "metadata": {},
   "source": [
    "### Checking\n",
    "\n",
    "**Problem**: Write "
   ]
  },
  {
   "cell_type": "code",
   "execution_count": null,
   "metadata": {},
   "outputs": [],
   "source": []
  },
  {
   "cell_type": "markdown",
   "metadata": {},
   "source": [
    "Checking\n",
    "\n",
    "**Exercises**:\n",
    "\n"
   ]
  },
  {
   "cell_type": "markdown",
   "metadata": {},
   "source": [
    "### Checking\n",
    "\n",
    "**Problem**: Write "
   ]
  },
  {
   "cell_type": "code",
   "execution_count": null,
   "metadata": {},
   "outputs": [],
   "source": []
  },
  {
   "cell_type": "markdown",
   "metadata": {},
   "source": [
    "Checking\n",
    "\n",
    "**Exercises**:\n",
    "\n"
   ]
  },
  {
   "cell_type": "markdown",
   "metadata": {},
   "source": [
    "### Checking\n",
    "\n",
    "**Problem**: Write "
   ]
  },
  {
   "cell_type": "code",
   "execution_count": null,
   "metadata": {},
   "outputs": [],
   "source": []
  },
  {
   "cell_type": "markdown",
   "metadata": {},
   "source": [
    "Checking\n",
    "\n",
    "**Exercises**:\n",
    "\n"
   ]
  },
  {
   "cell_type": "markdown",
   "metadata": {},
   "source": [
    "### Checking\n",
    "\n",
    "**Problem**: Write "
   ]
  },
  {
   "cell_type": "code",
   "execution_count": null,
   "metadata": {},
   "outputs": [],
   "source": []
  },
  {
   "cell_type": "markdown",
   "metadata": {},
   "source": [
    "Checking\n",
    "\n",
    "**Exercises**:\n",
    "\n"
   ]
  },
  {
   "cell_type": "markdown",
   "metadata": {},
   "source": [
    "### Checking\n",
    "\n",
    "**Problem**: Write "
   ]
  },
  {
   "cell_type": "code",
   "execution_count": null,
   "metadata": {},
   "outputs": [],
   "source": []
  },
  {
   "cell_type": "markdown",
   "metadata": {},
   "source": [
    "Checking\n",
    "\n",
    "**Exercises**:\n",
    "\n"
   ]
  },
  {
   "cell_type": "markdown",
   "metadata": {},
   "source": [
    "### Checking\n",
    "\n",
    "**Problem**: Write "
   ]
  },
  {
   "cell_type": "code",
   "execution_count": null,
   "metadata": {},
   "outputs": [],
   "source": []
  },
  {
   "cell_type": "markdown",
   "metadata": {},
   "source": [
    "Checking\n",
    "\n",
    "**Exercises**:\n",
    "\n"
   ]
  },
  {
   "cell_type": "markdown",
   "metadata": {},
   "source": [
    "### Checking\n",
    "\n",
    "**Problem**: Write "
   ]
  },
  {
   "cell_type": "code",
   "execution_count": null,
   "metadata": {},
   "outputs": [],
   "source": []
  },
  {
   "cell_type": "markdown",
   "metadata": {},
   "source": [
    "Checking\n",
    "\n",
    "**Exercises**:\n",
    "\n"
   ]
  },
  {
   "cell_type": "markdown",
   "metadata": {},
   "source": [
    "### Checking\n",
    "\n",
    "**Problem**: Write "
   ]
  },
  {
   "cell_type": "code",
   "execution_count": null,
   "metadata": {},
   "outputs": [],
   "source": []
  },
  {
   "cell_type": "markdown",
   "metadata": {},
   "source": [
    "Checking\n",
    "\n",
    "**Exercises**:\n",
    "\n"
   ]
  },
  {
   "cell_type": "markdown",
   "metadata": {},
   "source": []
  }
 ],
 "metadata": {
  "kernelspec": {
   "display_name": ".venv",
   "language": "python",
   "name": "python3"
  },
  "language_info": {
   "codemirror_mode": {
    "name": "ipython",
    "version": 3
   },
   "file_extension": ".py",
   "mimetype": "text/x-python",
   "name": "python",
   "nbconvert_exporter": "python",
   "pygments_lexer": "ipython3",
   "version": "3.11.7"
  }
 },
 "nbformat": 4,
 "nbformat_minor": 2
}
